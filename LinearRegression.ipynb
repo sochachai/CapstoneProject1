{
 "cells": [
  {
   "cell_type": "markdown",
   "metadata": {},
   "source": [
    "## This is to store the data frame that will be used for machine learning and check the result for linear regression. The data frame is generated from the cleaned data set 'Property_2019_1_13'. Onehotencoding to categorical features is done to the data set."
   ]
  },
  {
   "cell_type": "code",
   "execution_count": 1,
   "metadata": {},
   "outputs": [],
   "source": [
    "import pandas as pd\n",
    "import numpy as np"
   ]
  },
  {
   "cell_type": "code",
   "execution_count": 2,
   "metadata": {},
   "outputs": [
    {
     "data": {
      "text/html": [
       "<div>\n",
       "<style scoped>\n",
       "    .dataframe tbody tr th:only-of-type {\n",
       "        vertical-align: middle;\n",
       "    }\n",
       "\n",
       "    .dataframe tbody tr th {\n",
       "        vertical-align: top;\n",
       "    }\n",
       "\n",
       "    .dataframe thead th {\n",
       "        text-align: right;\n",
       "    }\n",
       "</style>\n",
       "<table border=\"1\" class=\"dataframe\">\n",
       "  <thead>\n",
       "    <tr style=\"text-align: right;\">\n",
       "      <th></th>\n",
       "      <th>FID</th>\n",
       "      <th>StreetNumber</th>\n",
       "      <th>StreetName</th>\n",
       "      <th>LandUse</th>\n",
       "      <th>CurrentAcres</th>\n",
       "      <th>TotalGrossArea</th>\n",
       "      <th>FinishedArea</th>\n",
       "      <th>CurrentValue</th>\n",
       "      <th>CurrentLandValue</th>\n",
       "      <th>CurrentYardItemsValue</th>\n",
       "      <th>...</th>\n",
       "      <th>YearBlt</th>\n",
       "      <th>SalePrice</th>\n",
       "      <th>NumofRooms</th>\n",
       "      <th>NumofBedrooms</th>\n",
       "      <th>NumofUnits</th>\n",
       "      <th>ZoningCode</th>\n",
       "      <th>Foundation</th>\n",
       "      <th>Depreciation</th>\n",
       "      <th>PropertyCenterPoint_x</th>\n",
       "      <th>PropertyCenterPoint_y</th>\n",
       "    </tr>\n",
       "  </thead>\n",
       "  <tbody>\n",
       "    <tr>\n",
       "      <th>0</th>\n",
       "      <td>1004</td>\n",
       "      <td>69</td>\n",
       "      <td>32</td>\n",
       "      <td>5176</td>\n",
       "      <td>0.05597</td>\n",
       "      <td>1760</td>\n",
       "      <td>840.00000</td>\n",
       "      <td>152500.0</td>\n",
       "      <td>121600</td>\n",
       "      <td>0</td>\n",
       "      <td>...</td>\n",
       "      <td>1912</td>\n",
       "      <td>158000</td>\n",
       "      <td>5</td>\n",
       "      <td>2</td>\n",
       "      <td>1</td>\n",
       "      <td>1733</td>\n",
       "      <td>2628</td>\n",
       "      <td>0.359</td>\n",
       "      <td>-73.2122</td>\n",
       "      <td>44.46910</td>\n",
       "    </tr>\n",
       "    <tr>\n",
       "      <th>1</th>\n",
       "      <td>1005</td>\n",
       "      <td>25</td>\n",
       "      <td>21</td>\n",
       "      <td>5176</td>\n",
       "      <td>0.08242</td>\n",
       "      <td>2676</td>\n",
       "      <td>1436.00000</td>\n",
       "      <td>241900.0</td>\n",
       "      <td>94400</td>\n",
       "      <td>700</td>\n",
       "      <td>...</td>\n",
       "      <td>1899</td>\n",
       "      <td>231750</td>\n",
       "      <td>7</td>\n",
       "      <td>3</td>\n",
       "      <td>1</td>\n",
       "      <td>1733</td>\n",
       "      <td>2628</td>\n",
       "      <td>0.098</td>\n",
       "      <td>-73.2125</td>\n",
       "      <td>44.48854</td>\n",
       "    </tr>\n",
       "    <tr>\n",
       "      <th>2</th>\n",
       "      <td>1006</td>\n",
       "      <td>133</td>\n",
       "      <td>137</td>\n",
       "      <td>2150</td>\n",
       "      <td>0.00000</td>\n",
       "      <td>2184</td>\n",
       "      <td>1572.80005</td>\n",
       "      <td>268000.0</td>\n",
       "      <td>0</td>\n",
       "      <td>0</td>\n",
       "      <td>...</td>\n",
       "      <td>1986</td>\n",
       "      <td>381500</td>\n",
       "      <td>6</td>\n",
       "      <td>2</td>\n",
       "      <td>1</td>\n",
       "      <td>5042</td>\n",
       "      <td>1219</td>\n",
       "      <td>0.025</td>\n",
       "      <td>-73.2681</td>\n",
       "      <td>44.52157</td>\n",
       "    </tr>\n",
       "    <tr>\n",
       "      <th>3</th>\n",
       "      <td>1007</td>\n",
       "      <td>14</td>\n",
       "      <td>10</td>\n",
       "      <td>5176</td>\n",
       "      <td>0.09832</td>\n",
       "      <td>3699</td>\n",
       "      <td>2087.00000</td>\n",
       "      <td>340800.0</td>\n",
       "      <td>130100</td>\n",
       "      <td>0</td>\n",
       "      <td>...</td>\n",
       "      <td>1910</td>\n",
       "      <td>430000</td>\n",
       "      <td>8</td>\n",
       "      <td>4</td>\n",
       "      <td>1</td>\n",
       "      <td>5042</td>\n",
       "      <td>2628</td>\n",
       "      <td>0.174</td>\n",
       "      <td>-73.2051</td>\n",
       "      <td>44.48153</td>\n",
       "    </tr>\n",
       "    <tr>\n",
       "      <th>4</th>\n",
       "      <td>1009</td>\n",
       "      <td>237</td>\n",
       "      <td>499</td>\n",
       "      <td>367</td>\n",
       "      <td>0.70154</td>\n",
       "      <td>62852</td>\n",
       "      <td>37977.00000</td>\n",
       "      <td>1905600.0</td>\n",
       "      <td>547700</td>\n",
       "      <td>51800</td>\n",
       "      <td>...</td>\n",
       "      <td>2013</td>\n",
       "      <td>505683</td>\n",
       "      <td>103</td>\n",
       "      <td>53</td>\n",
       "      <td>26</td>\n",
       "      <td>1733</td>\n",
       "      <td>1219</td>\n",
       "      <td>0.000</td>\n",
       "      <td>-73.2258</td>\n",
       "      <td>44.48770</td>\n",
       "    </tr>\n",
       "  </tbody>\n",
       "</table>\n",
       "<p>5 rows × 25 columns</p>\n",
       "</div>"
      ],
      "text/plain": [
       "    FID StreetNumber  StreetName  LandUse  CurrentAcres  TotalGrossArea  \\\n",
       "0  1004           69          32     5176       0.05597            1760   \n",
       "1  1005           25          21     5176       0.08242            2676   \n",
       "2  1006          133         137     2150       0.00000            2184   \n",
       "3  1007           14          10     5176       0.09832            3699   \n",
       "4  1009          237         499      367       0.70154           62852   \n",
       "\n",
       "   FinishedArea  CurrentValue  CurrentLandValue  CurrentYardItemsValue  \\\n",
       "0     840.00000      152500.0            121600                      0   \n",
       "1    1436.00000      241900.0             94400                    700   \n",
       "2    1572.80005      268000.0                 0                      0   \n",
       "3    2087.00000      340800.0            130100                      0   \n",
       "4   37977.00000     1905600.0            547700                  51800   \n",
       "\n",
       "           ...            YearBlt  SalePrice  NumofRooms  NumofBedrooms  \\\n",
       "0          ...               1912     158000           5              2   \n",
       "1          ...               1899     231750           7              3   \n",
       "2          ...               1986     381500           6              2   \n",
       "3          ...               1910     430000           8              4   \n",
       "4          ...               2013     505683         103             53   \n",
       "\n",
       "   NumofUnits  ZoningCode  Foundation  Depreciation  PropertyCenterPoint_x  \\\n",
       "0           1        1733        2628         0.359               -73.2122   \n",
       "1           1        1733        2628         0.098               -73.2125   \n",
       "2           1        5042        1219         0.025               -73.2681   \n",
       "3           1        5042        2628         0.174               -73.2051   \n",
       "4          26        1733        1219         0.000               -73.2258   \n",
       "\n",
       "   PropertyCenterPoint_y  \n",
       "0               44.46910  \n",
       "1               44.48854  \n",
       "2               44.52157  \n",
       "3               44.48153  \n",
       "4               44.48770  \n",
       "\n",
       "[5 rows x 25 columns]"
      ]
     },
     "execution_count": 2,
     "metadata": {},
     "output_type": "execute_result"
    }
   ],
   "source": [
    "df = pd.read_csv('Property_2019_1_13.csv')\n",
    "df.head()"
   ]
  },
  {
   "cell_type": "code",
   "execution_count": 3,
   "metadata": {},
   "outputs": [
    {
     "data": {
      "text/plain": [
       "4308"
      ]
     },
     "execution_count": 3,
     "metadata": {},
     "output_type": "execute_result"
    }
   ],
   "source": [
    "len(df)"
   ]
  },
  {
   "cell_type": "code",
   "execution_count": 4,
   "metadata": {},
   "outputs": [
    {
     "data": {
      "text/plain": [
       "Index(['FID', 'StreetNumber', 'StreetName', 'LandUse', 'CurrentAcres',\n",
       "       'TotalGrossArea', 'FinishedArea', 'CurrentValue', 'CurrentLandValue',\n",
       "       'CurrentYardItemsValue', 'CurrentBuildingValue', 'BuildingType',\n",
       "       'HeatFuel', 'HeatType', 'Grade', 'YearBlt', 'SalePrice', 'NumofRooms',\n",
       "       'NumofBedrooms', 'NumofUnits', 'ZoningCode', 'Foundation',\n",
       "       'Depreciation', 'PropertyCenterPoint_x', 'PropertyCenterPoint_y'],\n",
       "      dtype='object')"
      ]
     },
     "execution_count": 4,
     "metadata": {},
     "output_type": "execute_result"
    }
   ],
   "source": [
    "df.columns"
   ]
  },
  {
   "cell_type": "markdown",
   "metadata": {},
   "source": [
    "### A preliminary feature selection for machine learning is as follows.\n",
    "#### 1.FID should not be used in any type of analysis. \n",
    "#### 2.Since StreetName, StreetNumber, ZoningCode are all location variables which are less significant in determining SalePrice than the coordinate variables, as seen in Statistical Analysis, we will not use them as features in machine learning. However, we will preserve PropertyCenterPoint_x and PropertyCenterPoint_y.\n",
    "#### 3.It has been found in the data cleaning step that CurrentValue = CurrentLandValue+CurrentYardItemsValue+CurrentBuildingValue. CurrentValue and SalePrice is linearly related. We will preserve SalePrice, CurrentLandValue, CurrentYardItemsValue, CurrentBuildingValue but ignore CurrentValue in machine learning algorithms.\n",
    "#### 4.Recall TotalGrossArea and FinishedArea are strongly linearly related, and that SalePrice depends more on FinishedArea than on TotalGrossArea based on the correlation matrix, we will use FinishedArea instead of TotalGrossArea as a feature in machine learning algorithms.\n",
    "#### 5.Recall NumofRooms and NumofBedrooms are strongly linearly related, and that SalePrice depends more on NumofRooms than on NumofBedrooms based on the correlation matrix, we will use NumofRooms instead of NumofBedrooms as a feature in machine learning algorithms."
   ]
  },
  {
   "cell_type": "code",
   "execution_count": 5,
   "metadata": {},
   "outputs": [
    {
     "data": {
      "text/html": [
       "<div>\n",
       "<style scoped>\n",
       "    .dataframe tbody tr th:only-of-type {\n",
       "        vertical-align: middle;\n",
       "    }\n",
       "\n",
       "    .dataframe tbody tr th {\n",
       "        vertical-align: top;\n",
       "    }\n",
       "\n",
       "    .dataframe thead th {\n",
       "        text-align: right;\n",
       "    }\n",
       "</style>\n",
       "<table border=\"1\" class=\"dataframe\">\n",
       "  <thead>\n",
       "    <tr style=\"text-align: right;\">\n",
       "      <th></th>\n",
       "      <th>LandUse</th>\n",
       "      <th>CurrentAcres</th>\n",
       "      <th>TotalGrossArea</th>\n",
       "      <th>FinishedArea</th>\n",
       "      <th>CurrentLandValue</th>\n",
       "      <th>CurrentYardItemsValue</th>\n",
       "      <th>CurrentBuildingValue</th>\n",
       "      <th>BuildingType</th>\n",
       "      <th>HeatFuel</th>\n",
       "      <th>HeatType</th>\n",
       "      <th>Grade</th>\n",
       "      <th>YearBlt</th>\n",
       "      <th>SalePrice</th>\n",
       "      <th>NumofRooms</th>\n",
       "      <th>NumofUnits</th>\n",
       "      <th>Foundation</th>\n",
       "      <th>Depreciation</th>\n",
       "      <th>PropertyCenterPoint_x</th>\n",
       "      <th>PropertyCenterPoint_y</th>\n",
       "    </tr>\n",
       "  </thead>\n",
       "  <tbody>\n",
       "    <tr>\n",
       "      <th>0</th>\n",
       "      <td>5176</td>\n",
       "      <td>0.05597</td>\n",
       "      <td>1760</td>\n",
       "      <td>840.00000</td>\n",
       "      <td>121600</td>\n",
       "      <td>0</td>\n",
       "      <td>30900.0</td>\n",
       "      <td>2168</td>\n",
       "      <td>1039</td>\n",
       "      <td>3893</td>\n",
       "      <td>5</td>\n",
       "      <td>1912</td>\n",
       "      <td>158000</td>\n",
       "      <td>5</td>\n",
       "      <td>1</td>\n",
       "      <td>2628</td>\n",
       "      <td>0.359</td>\n",
       "      <td>-73.2122</td>\n",
       "      <td>44.46910</td>\n",
       "    </tr>\n",
       "    <tr>\n",
       "      <th>1</th>\n",
       "      <td>5176</td>\n",
       "      <td>0.08242</td>\n",
       "      <td>2676</td>\n",
       "      <td>1436.00000</td>\n",
       "      <td>94400</td>\n",
       "      <td>700</td>\n",
       "      <td>146800.0</td>\n",
       "      <td>83</td>\n",
       "      <td>8187</td>\n",
       "      <td>4255</td>\n",
       "      <td>7</td>\n",
       "      <td>1899</td>\n",
       "      <td>231750</td>\n",
       "      <td>7</td>\n",
       "      <td>1</td>\n",
       "      <td>2628</td>\n",
       "      <td>0.098</td>\n",
       "      <td>-73.2125</td>\n",
       "      <td>44.48854</td>\n",
       "    </tr>\n",
       "    <tr>\n",
       "      <th>2</th>\n",
       "      <td>2150</td>\n",
       "      <td>0.00000</td>\n",
       "      <td>2184</td>\n",
       "      <td>1572.80005</td>\n",
       "      <td>0</td>\n",
       "      <td>0</td>\n",
       "      <td>268000.0</td>\n",
       "      <td>482</td>\n",
       "      <td>8187</td>\n",
       "      <td>4255</td>\n",
       "      <td>10</td>\n",
       "      <td>1986</td>\n",
       "      <td>381500</td>\n",
       "      <td>6</td>\n",
       "      <td>1</td>\n",
       "      <td>1219</td>\n",
       "      <td>0.025</td>\n",
       "      <td>-73.2681</td>\n",
       "      <td>44.52157</td>\n",
       "    </tr>\n",
       "    <tr>\n",
       "      <th>3</th>\n",
       "      <td>5176</td>\n",
       "      <td>0.09832</td>\n",
       "      <td>3699</td>\n",
       "      <td>2087.00000</td>\n",
       "      <td>130100</td>\n",
       "      <td>0</td>\n",
       "      <td>210700.0</td>\n",
       "      <td>2168</td>\n",
       "      <td>8187</td>\n",
       "      <td>3893</td>\n",
       "      <td>8</td>\n",
       "      <td>1910</td>\n",
       "      <td>430000</td>\n",
       "      <td>8</td>\n",
       "      <td>1</td>\n",
       "      <td>2628</td>\n",
       "      <td>0.174</td>\n",
       "      <td>-73.2051</td>\n",
       "      <td>44.48153</td>\n",
       "    </tr>\n",
       "    <tr>\n",
       "      <th>4</th>\n",
       "      <td>367</td>\n",
       "      <td>0.70154</td>\n",
       "      <td>62852</td>\n",
       "      <td>37977.00000</td>\n",
       "      <td>547700</td>\n",
       "      <td>51800</td>\n",
       "      <td>1306100.0</td>\n",
       "      <td>291</td>\n",
       "      <td>8187</td>\n",
       "      <td>4255</td>\n",
       "      <td>9</td>\n",
       "      <td>2013</td>\n",
       "      <td>505683</td>\n",
       "      <td>103</td>\n",
       "      <td>26</td>\n",
       "      <td>1219</td>\n",
       "      <td>0.000</td>\n",
       "      <td>-73.2258</td>\n",
       "      <td>44.48770</td>\n",
       "    </tr>\n",
       "  </tbody>\n",
       "</table>\n",
       "</div>"
      ],
      "text/plain": [
       "   LandUse  CurrentAcres  TotalGrossArea  FinishedArea  CurrentLandValue  \\\n",
       "0     5176       0.05597            1760     840.00000            121600   \n",
       "1     5176       0.08242            2676    1436.00000             94400   \n",
       "2     2150       0.00000            2184    1572.80005                 0   \n",
       "3     5176       0.09832            3699    2087.00000            130100   \n",
       "4      367       0.70154           62852   37977.00000            547700   \n",
       "\n",
       "   CurrentYardItemsValue  CurrentBuildingValue  BuildingType  HeatFuel  \\\n",
       "0                      0               30900.0          2168      1039   \n",
       "1                    700              146800.0            83      8187   \n",
       "2                      0              268000.0           482      8187   \n",
       "3                      0              210700.0          2168      8187   \n",
       "4                  51800             1306100.0           291      8187   \n",
       "\n",
       "   HeatType  Grade  YearBlt  SalePrice  NumofRooms  NumofUnits  Foundation  \\\n",
       "0      3893      5     1912     158000           5           1        2628   \n",
       "1      4255      7     1899     231750           7           1        2628   \n",
       "2      4255     10     1986     381500           6           1        1219   \n",
       "3      3893      8     1910     430000           8           1        2628   \n",
       "4      4255      9     2013     505683         103          26        1219   \n",
       "\n",
       "   Depreciation  PropertyCenterPoint_x  PropertyCenterPoint_y  \n",
       "0         0.359               -73.2122               44.46910  \n",
       "1         0.098               -73.2125               44.48854  \n",
       "2         0.025               -73.2681               44.52157  \n",
       "3         0.174               -73.2051               44.48153  \n",
       "4         0.000               -73.2258               44.48770  "
      ]
     },
     "execution_count": 5,
     "metadata": {},
     "output_type": "execute_result"
    }
   ],
   "source": [
    "df_feature = df[['LandUse','CurrentAcres', 'TotalGrossArea', 'FinishedArea', \n",
    "                 'CurrentLandValue', 'CurrentYardItemsValue', 'CurrentBuildingValue',\n",
    "                 'BuildingType', 'HeatFuel', 'HeatType', 'Grade', 'YearBlt', 'SalePrice',\n",
    "                 'NumofRooms', 'NumofUnits', 'Foundation',\n",
    "                 'Depreciation', 'PropertyCenterPoint_x', 'PropertyCenterPoint_y']]\n",
    "df_feature.head()"
   ]
  },
  {
   "cell_type": "markdown",
   "metadata": {},
   "source": [
    "### The columns that orginally contain categorical data will be transformed by OneHotEncoding for better machine learning results."
   ]
  },
  {
   "cell_type": "markdown",
   "metadata": {},
   "source": [
    "#### Encode LandUse"
   ]
  },
  {
   "cell_type": "code",
   "execution_count": 6,
   "metadata": {},
   "outputs": [
    {
     "data": {
      "text/plain": [
       "Index(['CurrentAcres', 'TotalGrossArea', 'FinishedArea', 'CurrentLandValue',\n",
       "       'CurrentYardItemsValue', 'CurrentBuildingValue', 'BuildingType',\n",
       "       'HeatFuel', 'HeatType', 'Grade', 'YearBlt', 'SalePrice', 'NumofRooms',\n",
       "       'NumofUnits', 'Foundation', 'Depreciation', 'PropertyCenterPoint_x',\n",
       "       'PropertyCenterPoint_y', 'LandUse_8', 'LandUse_43', 'LandUse_45',\n",
       "       'LandUse_117', 'LandUse_239', 'LandUse_285', 'LandUse_367',\n",
       "       'LandUse_369', 'LandUse_1041', 'LandUse_2150', 'LandUse_5176'],\n",
       "      dtype='object')"
      ]
     },
     "execution_count": 6,
     "metadata": {},
     "output_type": "execute_result"
    }
   ],
   "source": [
    "LandUseCoded = pd.get_dummies(df_feature.LandUse,prefix='LandUse', drop_first=True)\n",
    "df_feature = pd.concat([df_feature,LandUseCoded],axis=1)\n",
    "df_feature.drop(['LandUse'],axis=1, inplace=True)\n",
    "df_feature.columns"
   ]
  },
  {
   "cell_type": "markdown",
   "metadata": {},
   "source": [
    "#### Encode BuildingType"
   ]
  },
  {
   "cell_type": "code",
   "execution_count": 7,
   "metadata": {},
   "outputs": [
    {
     "data": {
      "text/plain": [
       "Index(['CurrentAcres', 'TotalGrossArea', 'FinishedArea', 'CurrentLandValue',\n",
       "       'CurrentYardItemsValue', 'CurrentBuildingValue', 'HeatFuel', 'HeatType',\n",
       "       'Grade', 'YearBlt', 'SalePrice', 'NumofRooms', 'NumofUnits',\n",
       "       'Foundation', 'Depreciation', 'PropertyCenterPoint_x',\n",
       "       'PropertyCenterPoint_y', 'LandUse_8', 'LandUse_43', 'LandUse_45',\n",
       "       'LandUse_117', 'LandUse_239', 'LandUse_285', 'LandUse_367',\n",
       "       'LandUse_369', 'LandUse_1041', 'LandUse_2150', 'LandUse_5176',\n",
       "       'BuildingType_8', 'BuildingType_9', 'BuildingType_11',\n",
       "       'BuildingType_12', 'BuildingType_14', 'BuildingType_22',\n",
       "       'BuildingType_24', 'BuildingType_30', 'BuildingType_31',\n",
       "       'BuildingType_39', 'BuildingType_44', 'BuildingType_46',\n",
       "       'BuildingType_60', 'BuildingType_81', 'BuildingType_83',\n",
       "       'BuildingType_87', 'BuildingType_101', 'BuildingType_103',\n",
       "       'BuildingType_108', 'BuildingType_110', 'BuildingType_111',\n",
       "       'BuildingType_144', 'BuildingType_147', 'BuildingType_162',\n",
       "       'BuildingType_219', 'BuildingType_291', 'BuildingType_298',\n",
       "       'BuildingType_338', 'BuildingType_482', 'BuildingType_589',\n",
       "       'BuildingType_1028', 'BuildingType_1193', 'BuildingType_1389',\n",
       "       'BuildingType_2168'],\n",
       "      dtype='object')"
      ]
     },
     "execution_count": 7,
     "metadata": {},
     "output_type": "execute_result"
    }
   ],
   "source": [
    "BuildingTypeCoded = pd.get_dummies(df_feature.BuildingType,prefix='BuildingType', drop_first=True)\n",
    "df_feature = pd.concat([df_feature,BuildingTypeCoded],axis=1)\n",
    "df_feature.drop(['BuildingType'],axis=1, inplace=True)\n",
    "df_feature.columns"
   ]
  },
  {
   "cell_type": "markdown",
   "metadata": {},
   "source": [
    "#### Encode HeatFuel"
   ]
  },
  {
   "cell_type": "code",
   "execution_count": 8,
   "metadata": {},
   "outputs": [
    {
     "data": {
      "text/plain": [
       "Index(['CurrentAcres', 'TotalGrossArea', 'FinishedArea', 'CurrentLandValue',\n",
       "       'CurrentYardItemsValue', 'CurrentBuildingValue', 'HeatType', 'Grade',\n",
       "       'YearBlt', 'SalePrice', 'NumofRooms', 'NumofUnits', 'Foundation',\n",
       "       'Depreciation', 'PropertyCenterPoint_x', 'PropertyCenterPoint_y',\n",
       "       'LandUse_8', 'LandUse_43', 'LandUse_45', 'LandUse_117', 'LandUse_239',\n",
       "       'LandUse_285', 'LandUse_367', 'LandUse_369', 'LandUse_1041',\n",
       "       'LandUse_2150', 'LandUse_5176', 'BuildingType_8', 'BuildingType_9',\n",
       "       'BuildingType_11', 'BuildingType_12', 'BuildingType_14',\n",
       "       'BuildingType_22', 'BuildingType_24', 'BuildingType_30',\n",
       "       'BuildingType_31', 'BuildingType_39', 'BuildingType_44',\n",
       "       'BuildingType_46', 'BuildingType_60', 'BuildingType_81',\n",
       "       'BuildingType_83', 'BuildingType_87', 'BuildingType_101',\n",
       "       'BuildingType_103', 'BuildingType_108', 'BuildingType_110',\n",
       "       'BuildingType_111', 'BuildingType_144', 'BuildingType_147',\n",
       "       'BuildingType_162', 'BuildingType_219', 'BuildingType_291',\n",
       "       'BuildingType_298', 'BuildingType_338', 'BuildingType_482',\n",
       "       'BuildingType_589', 'BuildingType_1028', 'BuildingType_1193',\n",
       "       'BuildingType_1389', 'BuildingType_2168', 'HeatFuel_64', 'HeatFuel_281',\n",
       "       'HeatFuel_1039', 'HeatFuel_8187'],\n",
       "      dtype='object')"
      ]
     },
     "execution_count": 8,
     "metadata": {},
     "output_type": "execute_result"
    }
   ],
   "source": [
    "HeatFuelCoded = pd.get_dummies(df_feature.HeatFuel,prefix='HeatFuel', drop_first=True)\n",
    "df_feature = pd.concat([df_feature,HeatFuelCoded],axis=1)\n",
    "df_feature.drop(['HeatFuel'],axis=1, inplace=True)\n",
    "df_feature.columns"
   ]
  },
  {
   "cell_type": "markdown",
   "metadata": {},
   "source": [
    "#### Encode HeatType"
   ]
  },
  {
   "cell_type": "code",
   "execution_count": 9,
   "metadata": {},
   "outputs": [
    {
     "data": {
      "text/plain": [
       "Index(['CurrentAcres', 'TotalGrossArea', 'FinishedArea', 'CurrentLandValue',\n",
       "       'CurrentYardItemsValue', 'CurrentBuildingValue', 'Grade', 'YearBlt',\n",
       "       'SalePrice', 'NumofRooms', 'NumofUnits', 'Foundation', 'Depreciation',\n",
       "       'PropertyCenterPoint_x', 'PropertyCenterPoint_y', 'LandUse_8',\n",
       "       'LandUse_43', 'LandUse_45', 'LandUse_117', 'LandUse_239', 'LandUse_285',\n",
       "       'LandUse_367', 'LandUse_369', 'LandUse_1041', 'LandUse_2150',\n",
       "       'LandUse_5176', 'BuildingType_8', 'BuildingType_9', 'BuildingType_11',\n",
       "       'BuildingType_12', 'BuildingType_14', 'BuildingType_22',\n",
       "       'BuildingType_24', 'BuildingType_30', 'BuildingType_31',\n",
       "       'BuildingType_39', 'BuildingType_44', 'BuildingType_46',\n",
       "       'BuildingType_60', 'BuildingType_81', 'BuildingType_83',\n",
       "       'BuildingType_87', 'BuildingType_101', 'BuildingType_103',\n",
       "       'BuildingType_108', 'BuildingType_110', 'BuildingType_111',\n",
       "       'BuildingType_144', 'BuildingType_147', 'BuildingType_162',\n",
       "       'BuildingType_219', 'BuildingType_291', 'BuildingType_298',\n",
       "       'BuildingType_338', 'BuildingType_482', 'BuildingType_589',\n",
       "       'BuildingType_1028', 'BuildingType_1193', 'BuildingType_1389',\n",
       "       'BuildingType_2168', 'HeatFuel_64', 'HeatFuel_281', 'HeatFuel_1039',\n",
       "       'HeatFuel_8187', 'HeatType_50', 'HeatType_54', 'HeatType_58',\n",
       "       'HeatType_188', 'HeatType_281', 'HeatType_739', 'HeatType_3893',\n",
       "       'HeatType_4255'],\n",
       "      dtype='object')"
      ]
     },
     "execution_count": 9,
     "metadata": {},
     "output_type": "execute_result"
    }
   ],
   "source": [
    "HeatTypeCoded = pd.get_dummies(df_feature.HeatType,prefix='HeatType', drop_first=True)\n",
    "df_feature = pd.concat([df_feature,HeatTypeCoded],axis=1)\n",
    "df_feature.drop(['HeatType'],axis=1, inplace=True)\n",
    "df_feature.columns"
   ]
  },
  {
   "cell_type": "markdown",
   "metadata": {},
   "source": [
    "#### Encode Foundation"
   ]
  },
  {
   "cell_type": "code",
   "execution_count": 10,
   "metadata": {},
   "outputs": [
    {
     "data": {
      "text/plain": [
       "Index(['CurrentAcres', 'TotalGrossArea', 'FinishedArea', 'CurrentLandValue',\n",
       "       'CurrentYardItemsValue', 'CurrentBuildingValue', 'Grade', 'YearBlt',\n",
       "       'SalePrice', 'NumofRooms', 'NumofUnits', 'Depreciation',\n",
       "       'PropertyCenterPoint_x', 'PropertyCenterPoint_y', 'LandUse_8',\n",
       "       'LandUse_43', 'LandUse_45', 'LandUse_117', 'LandUse_239', 'LandUse_285',\n",
       "       'LandUse_367', 'LandUse_369', 'LandUse_1041', 'LandUse_2150',\n",
       "       'LandUse_5176', 'BuildingType_8', 'BuildingType_9', 'BuildingType_11',\n",
       "       'BuildingType_12', 'BuildingType_14', 'BuildingType_22',\n",
       "       'BuildingType_24', 'BuildingType_30', 'BuildingType_31',\n",
       "       'BuildingType_39', 'BuildingType_44', 'BuildingType_46',\n",
       "       'BuildingType_60', 'BuildingType_81', 'BuildingType_83',\n",
       "       'BuildingType_87', 'BuildingType_101', 'BuildingType_103',\n",
       "       'BuildingType_108', 'BuildingType_110', 'BuildingType_111',\n",
       "       'BuildingType_144', 'BuildingType_147', 'BuildingType_162',\n",
       "       'BuildingType_219', 'BuildingType_291', 'BuildingType_298',\n",
       "       'BuildingType_338', 'BuildingType_482', 'BuildingType_589',\n",
       "       'BuildingType_1028', 'BuildingType_1193', 'BuildingType_1389',\n",
       "       'BuildingType_2168', 'HeatFuel_64', 'HeatFuel_281', 'HeatFuel_1039',\n",
       "       'HeatFuel_8187', 'HeatType_50', 'HeatType_54', 'HeatType_58',\n",
       "       'HeatType_188', 'HeatType_281', 'HeatType_739', 'HeatType_3893',\n",
       "       'HeatType_4255', 'Foundation_130', 'Foundation_1219', 'Foundation_2322',\n",
       "       'Foundation_2628', 'Foundation_3199'],\n",
       "      dtype='object')"
      ]
     },
     "execution_count": 10,
     "metadata": {},
     "output_type": "execute_result"
    }
   ],
   "source": [
    "FoundationCoded = pd.get_dummies(df_feature.Foundation,prefix='Foundation', drop_first=True)\n",
    "df_feature = pd.concat([df_feature,FoundationCoded],axis=1)\n",
    "df_feature.drop(['Foundation'],axis=1, inplace=True)\n",
    "df_feature.columns"
   ]
  },
  {
   "cell_type": "code",
   "execution_count": 11,
   "metadata": {},
   "outputs": [],
   "source": [
    "df_feature.to_csv('Ready_for_machine_learning_2019_1_23.csv',index=False)"
   ]
  },
  {
   "cell_type": "markdown",
   "metadata": {},
   "source": [
    "#### Set the target and variables."
   ]
  },
  {
   "cell_type": "code",
   "execution_count": 12,
   "metadata": {},
   "outputs": [],
   "source": [
    "X = df_feature.drop(columns=['SalePrice'])\n",
    "y = df_feature.SalePrice"
   ]
  },
  {
   "cell_type": "markdown",
   "metadata": {},
   "source": [
    "#### Generate Train and Test sets, and perform scaling."
   ]
  },
  {
   "cell_type": "code",
   "execution_count": 13,
   "metadata": {},
   "outputs": [],
   "source": [
    "from sklearn.model_selection import train_test_split\n",
    "X_train, X_test, y_train, y_test = train_test_split(X, y, test_size=0.2, random_state=0)\n",
    "from sklearn.preprocessing import StandardScaler\n",
    "scaler = StandardScaler()\n",
    "X_train = scaler.fit_transform(X_train)\n",
    "X_test = scaler.transform(X_test)"
   ]
  },
  {
   "cell_type": "markdown",
   "metadata": {},
   "source": [
    "### Linear Regression"
   ]
  },
  {
   "cell_type": "code",
   "execution_count": 15,
   "metadata": {},
   "outputs": [
    {
     "name": "stdout",
     "output_type": "stream",
     "text": [
      "MSE: 13544726393.2428\n",
      "Square of MSE: 116381.8130\n",
      "Average Percentage of Abosulute Error: 0.2331\n"
     ]
    }
   ],
   "source": [
    "from sklearn.linear_model import LinearRegression\n",
    "from sklearn.metrics import mean_squared_error\n",
    "reg = LinearRegression()\n",
    "reg.fit(X_train, y_train)\n",
    "mse = mean_squared_error(y_test, reg.predict(X_test))\n",
    "print(\"MSE: %.4f\" % mse)\n",
    "print(\"Square of MSE: %.4f\" % np.sqrt(mse))\n",
    "print(\"Average Percentage of Abosulute Error: %.4f\" % np.mean(np.abs(reg.predict(X_test)-y_test)/y_test))"
   ]
  },
  {
   "cell_type": "markdown",
   "metadata": {},
   "source": [
    "##### Compared to the best model in Gradient Boosting which has MSE = 9653647785.6226 and the corresponding average percentage of absolute error = 20.18%, Linear Regression is not a good model. Next we will try to establish a simplified linear regression model by only taking a few important features. The features selected are in the top list of the most important feature in the Gradient Boosting Regression."
   ]
  },
  {
   "cell_type": "code",
   "execution_count": 16,
   "metadata": {},
   "outputs": [
    {
     "name": "stdout",
     "output_type": "stream",
     "text": [
      "MSE: 13124780312.9596\n",
      "Square of MSE: 114563.4336\n",
      "Average Percentage of Abosulute Error: 0.2232\n"
     ]
    }
   ],
   "source": [
    "X2=df_feature[['BuildingType_291', 'BuildingType_11', 'HeatType_54',\n",
    "       'BuildingType_8', 'Grade', 'LandUse_285', 'BuildingType_144',\n",
    "       'CurrentYardItemsValue', 'BuildingType_298', 'LandUse_117',\n",
    "       'PropertyCenterPoint_y', 'Foundation_2322', 'NumofRooms',\n",
    "       'PropertyCenterPoint_x', 'Depreciation', 'YearBlt', 'CurrentAcres',\n",
    "       'TotalGrossArea', 'CurrentLandValue', 'FinishedArea', 'NumofUnits',\n",
    "       'CurrentBuildingValue']]\n",
    "y2=df_feature.SalePrice\n",
    "\n",
    "from sklearn.model_selection import train_test_split\n",
    "X2_train, X2_test, y2_train, y2_test = train_test_split(X2, y2, test_size=0.2, random_state=0)\n",
    "from sklearn.preprocessing import StandardScaler\n",
    "scaler = StandardScaler()\n",
    "X2_train = scaler.fit_transform(X2_train)\n",
    "X2_test = scaler.transform(X2_test)\n",
    "\n",
    "from sklearn.linear_model import LinearRegression\n",
    "reg = LinearRegression()\n",
    "reg.fit(X2_train, y2_train)\n",
    "mse = mean_squared_error(y2_test, reg.predict(X2_test))\n",
    "print(\"MSE: %.4f\" % mse)\n",
    "print(\"Square of MSE: %.4f\" % np.sqrt(mse))\n",
    "print(\"Average Percentage of Abosulute Error: %.4f\" % np.mean(np.abs(reg.predict(X2_test)-y2_test)/y2_test))"
   ]
  },
  {
   "cell_type": "markdown",
   "metadata": {},
   "source": [
    "##### Indeed, the linear regression performs better but is still not as good as the Gradient Boosting Regression."
   ]
  },
  {
   "cell_type": "code",
   "execution_count": null,
   "metadata": {},
   "outputs": [],
   "source": []
  }
 ],
 "metadata": {
  "kernelspec": {
   "display_name": "Python 3",
   "language": "python",
   "name": "python3"
  },
  "language_info": {
   "codemirror_mode": {
    "name": "ipython",
    "version": 3
   },
   "file_extension": ".py",
   "mimetype": "text/x-python",
   "name": "python",
   "nbconvert_exporter": "python",
   "pygments_lexer": "ipython3",
   "version": "3.6.5"
  }
 },
 "nbformat": 4,
 "nbformat_minor": 2
}
