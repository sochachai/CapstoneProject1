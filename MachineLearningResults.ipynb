{
  "nbformat": 4,
  "nbformat_minor": 0,
  "metadata": {
    "colab": {
      "name": "Copy of MachineLearningResults.ipynb",
      "version": "0.3.2",
      "provenance": [],
      "collapsed_sections": [],
      "toc_visible": true
    },
    "kernelspec": {
      "name": "python3",
      "display_name": "Python 3"
    },
    "accelerator": "GPU"
  },
  "cells": [
    {
      "metadata": {
        "hide": true,
        "id": "qlkcNKj_Mo8O",
        "colab_type": "text"
      },
      "cell_type": "markdown",
      "source": [
        "# Machine Learning and Regression Analysis\n",
        "$$\n",
        "\\renewcommand{\\like}{{\\cal L}}\n",
        "\\renewcommand{\\loglike}{{\\ell}}\n",
        "\\renewcommand{\\err}{{\\cal E}}\n",
        "\\renewcommand{\\dat}{{\\cal D}}\n",
        "\\renewcommand{\\hyp}{{\\cal H}}\n",
        "\\renewcommand{\\Ex}[2]{E_{#1}[#2]}\n",
        "\\renewcommand{\\x}{{\\mathbf x}}\n",
        "\\renewcommand{\\v}[1]{{\\mathbf #1}}\n",
        "$$"
      ]
    },
    {
      "metadata": {
        "id": "_NB7YHj7Mo8Z",
        "colab_type": "text"
      },
      "cell_type": "markdown",
      "source": [
        "We leverage 4 regression models:Linear Regression, classical Gradient Boosting Regression, Random Forest Regression and XGBoosing Regression to estimate the sale prices of housing properties. Parameters in each model will be tuned to search for better models in terms of estimation accuracy. Two standards are used to evaluate the performances of models, in other words, the accuracies of price estimation for different models.\n",
        "<ul>\n",
        "  <li> <b>RMSE:</b>  Root Mean Square Error  (https://en.wikipedia.org/wiki/Root-mean-square_deviation)\n",
        "  <li> <b>MAPE:</b>  Mean Absolute Percentage Error   (https://en.wikipedia.org/wiki/Mean_absolute_percentage_error\n",
        ")\n",
        "</ul>\n",
        "</div>\n",
        "<br/>\n",
        "<div class=\"span5 alert alert-success\">\n",
        "<h4>Comments on evaluation standards</h4>\n",
        "<ul>\n",
        "  <li> Good models should have both relatively low RMSEs and MAPEs. </li>\n",
        "  <li> It is to be expected though RMSE and MAPE will NOT increase/decrease simultaneously. In a situation where Model A have lower RMSE than that of Model B but the MAPE of Model A is greater than the MAPE of Model B, we need to decide which model is suprior than the other. Depending on clients' perferences, the error used in evaluation of models is based on the following intuition.</li>\n",
        "   <ul>  \n",
        "      \n",
        "   <li> A low RMSE indicates accurate estimation of high-valued and mediate-valued housing properties but does not rule out the risk of inaccurate estimation of low-valued housing properties. </li>\n",
        "      \n",
        "   \n",
        "   <li> A low MAPE indicates accurate estimation of low-valued and mediate-valued housing properties but does not rule out the risk of inaccurate estimation of high-valued housing properties. </li>  \n",
        "      \n",
        "   </ul>   \n",
        "  \n",
        "   \n",
        "</ul>\n",
        "</div>\n"
      ]
    },
    {
      "metadata": {
        "id": "ifjMJnbKMo8i",
        "colab_type": "text"
      },
      "cell_type": "markdown",
      "source": [
        "The following steps will be done to set up machine learning models. \n",
        "\n",
        "<ul>\n",
        "  <li> A preliminary feature selection based on the results on previous Exploratory Data Analysis to avoid dependence among feature variables and to filter out irrelevant features. </li>\n",
        "</ul>\n",
        "\n",
        "<ul>\n",
        "  <li> One-Hot-Encoding to categorical data. In previous data processing, categorical data has been encoded to numerics by a frequency method, which does not preserve all the information on the original data set. One-Hot-Encoding, on the other hand, captures all the information on the original data set. Hence, we will use One-Hot-Encoding to further process the data for the purpose of achieving better performances of machine learning models.</li>\n",
        "</ul>"
      ]
    },
    {
      "metadata": {
        "id": "35Sm-H-HTbMJ",
        "colab_type": "code",
        "outputId": "68fdc213-c238-440d-a50f-7af75c7d894d",
        "colab": {
          "base_uri": "https://localhost:8080/",
          "height": 122
        }
      },
      "cell_type": "code",
      "source": [
        "from google.colab import drive \n",
        "drive.mount('/content/gdrive')"
      ],
      "execution_count": 1,
      "outputs": [
        {
          "output_type": "stream",
          "text": [
            "Go to this URL in a browser: https://accounts.google.com/o/oauth2/auth?client_id=947318989803-6bn6qk8qdgf4n4g3pfee6491hc0brc4i.apps.googleusercontent.com&redirect_uri=urn%3Aietf%3Awg%3Aoauth%3A2.0%3Aoob&scope=email%20https%3A%2F%2Fwww.googleapis.com%2Fauth%2Fdocs.test%20https%3A%2F%2Fwww.googleapis.com%2Fauth%2Fdrive%20https%3A%2F%2Fwww.googleapis.com%2Fauth%2Fdrive.photos.readonly%20https%3A%2F%2Fwww.googleapis.com%2Fauth%2Fpeopleapi.readonly&response_type=code\n",
            "\n",
            "Enter your authorization code:\n",
            "··········\n",
            "Mounted at /content/gdrive\n"
          ],
          "name": "stdout"
        }
      ]
    },
    {
      "metadata": {
        "id": "cC2qM7gJMo8s",
        "colab_type": "text"
      },
      "cell_type": "markdown",
      "source": [
        "## Load the processed data set (which is ready for EDA)"
      ]
    },
    {
      "metadata": {
        "hide": true,
        "id": "Px1Rp2AcMo84",
        "colab_type": "code",
        "outputId": "7b39f0e7-7805-4650-90b4-b1c349cee2e7",
        "colab": {
          "base_uri": "https://localhost:8080/",
          "height": 765
        }
      },
      "cell_type": "code",
      "source": [
        "import pandas as pd\n",
        "import numpy as np\n",
        "df = pd.read_csv('gdrive/My Drive/Ready_for_EDA_2019_1_13.csv')\n",
        "print(df.head())\n",
        "print(len(df))\n",
        "print(df.columns)"
      ],
      "execution_count": 41,
      "outputs": [
        {
          "output_type": "stream",
          "text": [
            "    FID StreetNumber  StreetName  LandUse  CurrentAcres  TotalGrossArea  \\\n",
            "0  1004           69          32     5176       0.05597            1760   \n",
            "1  1005           25          21     5176       0.08242            2676   \n",
            "2  1006          133         137     2150       0.00000            2184   \n",
            "3  1007           14          10     5176       0.09832            3699   \n",
            "4  1009          237         499      367       0.70154           62852   \n",
            "\n",
            "   FinishedArea  CurrentValue  CurrentLandValue  CurrentYardItemsValue  \\\n",
            "0     840.00000      152500.0            121600                      0   \n",
            "1    1436.00000      241900.0             94400                    700   \n",
            "2    1572.80005      268000.0                 0                      0   \n",
            "3    2087.00000      340800.0            130100                      0   \n",
            "4   37977.00000     1905600.0            547700                  51800   \n",
            "\n",
            "           ...            YearBlt  SalePrice  NumofRooms  NumofBedrooms  \\\n",
            "0          ...               1912     158000           5              2   \n",
            "1          ...               1899     231750           7              3   \n",
            "2          ...               1986     381500           6              2   \n",
            "3          ...               1910     430000           8              4   \n",
            "4          ...               2013     505683         103             53   \n",
            "\n",
            "   NumofUnits  ZoningCode  Foundation  Depreciation  PropertyCenterPoint_x  \\\n",
            "0           1        1733        2628         0.359               -73.2122   \n",
            "1           1        1733        2628         0.098               -73.2125   \n",
            "2           1        5042        1219         0.025               -73.2681   \n",
            "3           1        5042        2628         0.174               -73.2051   \n",
            "4          26        1733        1219         0.000               -73.2258   \n",
            "\n",
            "   PropertyCenterPoint_y  \n",
            "0               44.46910  \n",
            "1               44.48854  \n",
            "2               44.52157  \n",
            "3               44.48153  \n",
            "4               44.48770  \n",
            "\n",
            "[5 rows x 25 columns]\n",
            "4308\n",
            "Index(['FID', 'StreetNumber', 'StreetName', 'LandUse', 'CurrentAcres',\n",
            "       'TotalGrossArea', 'FinishedArea', 'CurrentValue', 'CurrentLandValue',\n",
            "       'CurrentYardItemsValue', 'CurrentBuildingValue', 'BuildingType',\n",
            "       'HeatFuel', 'HeatType', 'Grade', 'YearBlt', 'SalePrice', 'NumofRooms',\n",
            "       'NumofBedrooms', 'NumofUnits', 'ZoningCode', 'Foundation',\n",
            "       'Depreciation', 'PropertyCenterPoint_x', 'PropertyCenterPoint_y'],\n",
            "      dtype='object')\n"
          ],
          "name": "stdout"
        }
      ]
    },
    {
      "metadata": {
        "id": "JGkzd_B9Mo9i",
        "colab_type": "text"
      },
      "cell_type": "markdown",
      "source": [
        "## A preliminary feature selection for machine learning is as follows.\n",
        "<ul> \n",
        "    <li> <b>1.</b>FID should not be used in any type of analysis.</li>\n",
        "</ul>\n",
        "<ul> \n",
        "    <li> <b>2.</b>Since StreetName, StreetNumber, ZoningCode are all location variables which are less significant in determining SalePrice than the coordinate variables, as seen in Statistical Analysis, we will not use them as features in machine learning. However, we will preserve PropertyCenterPoint_x and PropertyCenterPoint_y.</li>\n",
        "</ul>\n",
        "<ul>\n",
        "    <li> <b>3.</b>It has been found in the data cleaning step that CurrentValue = CurrentLandValue+CurrentYardItemsValue+CurrentBuildingValue. CurrentValue and SalePrice is linearly related. We will preserve SalePrice, CurrentLandValue, CurrentYardItemsValue, CurrentBuildingValue but ignore CurrentValue in machine learning algorithms.\n",
        "    </li>\n",
        "</ul>\n",
        "<ul> \n",
        "    <li> <b>4.</b>Recall NumofRooms and NumofBedrooms are strongly linearly related, and that SalePrice depends more on NumofRooms than on NumofBedrooms based on the correlation matrix, we will use NumofRooms instead of NumofBedrooms as a feature in machine learning algorithms.</li>\n",
        "</ul>"
      ]
    },
    {
      "metadata": {
        "id": "PHsT7iOzMo9w",
        "colab_type": "code",
        "outputId": "93ea8e62-4d24-44d2-ba62-4ec4d1f1967b",
        "colab": {
          "base_uri": "https://localhost:8080/",
          "height": 224
        }
      },
      "cell_type": "code",
      "source": [
        "df_feature = df[['LandUse','CurrentAcres', 'TotalGrossArea', 'FinishedArea', \n",
        "                 'CurrentLandValue', 'CurrentYardItemsValue', 'CurrentBuildingValue',\n",
        "                 'BuildingType', 'HeatFuel', 'HeatType', 'Grade', 'YearBlt', 'SalePrice',\n",
        "                 'NumofRooms', 'NumofUnits', 'Foundation',\n",
        "                 'Depreciation', 'PropertyCenterPoint_x', 'PropertyCenterPoint_y']]\n",
        "df_feature.head()"
      ],
      "execution_count": 42,
      "outputs": [
        {
          "output_type": "execute_result",
          "data": {
            "text/html": [
              "<div>\n",
              "<style scoped>\n",
              "    .dataframe tbody tr th:only-of-type {\n",
              "        vertical-align: middle;\n",
              "    }\n",
              "\n",
              "    .dataframe tbody tr th {\n",
              "        vertical-align: top;\n",
              "    }\n",
              "\n",
              "    .dataframe thead th {\n",
              "        text-align: right;\n",
              "    }\n",
              "</style>\n",
              "<table border=\"1\" class=\"dataframe\">\n",
              "  <thead>\n",
              "    <tr style=\"text-align: right;\">\n",
              "      <th></th>\n",
              "      <th>LandUse</th>\n",
              "      <th>CurrentAcres</th>\n",
              "      <th>TotalGrossArea</th>\n",
              "      <th>FinishedArea</th>\n",
              "      <th>CurrentLandValue</th>\n",
              "      <th>CurrentYardItemsValue</th>\n",
              "      <th>CurrentBuildingValue</th>\n",
              "      <th>BuildingType</th>\n",
              "      <th>HeatFuel</th>\n",
              "      <th>HeatType</th>\n",
              "      <th>Grade</th>\n",
              "      <th>YearBlt</th>\n",
              "      <th>SalePrice</th>\n",
              "      <th>NumofRooms</th>\n",
              "      <th>NumofUnits</th>\n",
              "      <th>Foundation</th>\n",
              "      <th>Depreciation</th>\n",
              "      <th>PropertyCenterPoint_x</th>\n",
              "      <th>PropertyCenterPoint_y</th>\n",
              "    </tr>\n",
              "  </thead>\n",
              "  <tbody>\n",
              "    <tr>\n",
              "      <th>0</th>\n",
              "      <td>5176</td>\n",
              "      <td>0.05597</td>\n",
              "      <td>1760</td>\n",
              "      <td>840.00000</td>\n",
              "      <td>121600</td>\n",
              "      <td>0</td>\n",
              "      <td>30900.0</td>\n",
              "      <td>2168</td>\n",
              "      <td>1039</td>\n",
              "      <td>3893</td>\n",
              "      <td>5</td>\n",
              "      <td>1912</td>\n",
              "      <td>158000</td>\n",
              "      <td>5</td>\n",
              "      <td>1</td>\n",
              "      <td>2628</td>\n",
              "      <td>0.359</td>\n",
              "      <td>-73.2122</td>\n",
              "      <td>44.46910</td>\n",
              "    </tr>\n",
              "    <tr>\n",
              "      <th>1</th>\n",
              "      <td>5176</td>\n",
              "      <td>0.08242</td>\n",
              "      <td>2676</td>\n",
              "      <td>1436.00000</td>\n",
              "      <td>94400</td>\n",
              "      <td>700</td>\n",
              "      <td>146800.0</td>\n",
              "      <td>83</td>\n",
              "      <td>8187</td>\n",
              "      <td>4255</td>\n",
              "      <td>7</td>\n",
              "      <td>1899</td>\n",
              "      <td>231750</td>\n",
              "      <td>7</td>\n",
              "      <td>1</td>\n",
              "      <td>2628</td>\n",
              "      <td>0.098</td>\n",
              "      <td>-73.2125</td>\n",
              "      <td>44.48854</td>\n",
              "    </tr>\n",
              "    <tr>\n",
              "      <th>2</th>\n",
              "      <td>2150</td>\n",
              "      <td>0.00000</td>\n",
              "      <td>2184</td>\n",
              "      <td>1572.80005</td>\n",
              "      <td>0</td>\n",
              "      <td>0</td>\n",
              "      <td>268000.0</td>\n",
              "      <td>482</td>\n",
              "      <td>8187</td>\n",
              "      <td>4255</td>\n",
              "      <td>10</td>\n",
              "      <td>1986</td>\n",
              "      <td>381500</td>\n",
              "      <td>6</td>\n",
              "      <td>1</td>\n",
              "      <td>1219</td>\n",
              "      <td>0.025</td>\n",
              "      <td>-73.2681</td>\n",
              "      <td>44.52157</td>\n",
              "    </tr>\n",
              "    <tr>\n",
              "      <th>3</th>\n",
              "      <td>5176</td>\n",
              "      <td>0.09832</td>\n",
              "      <td>3699</td>\n",
              "      <td>2087.00000</td>\n",
              "      <td>130100</td>\n",
              "      <td>0</td>\n",
              "      <td>210700.0</td>\n",
              "      <td>2168</td>\n",
              "      <td>8187</td>\n",
              "      <td>3893</td>\n",
              "      <td>8</td>\n",
              "      <td>1910</td>\n",
              "      <td>430000</td>\n",
              "      <td>8</td>\n",
              "      <td>1</td>\n",
              "      <td>2628</td>\n",
              "      <td>0.174</td>\n",
              "      <td>-73.2051</td>\n",
              "      <td>44.48153</td>\n",
              "    </tr>\n",
              "    <tr>\n",
              "      <th>4</th>\n",
              "      <td>367</td>\n",
              "      <td>0.70154</td>\n",
              "      <td>62852</td>\n",
              "      <td>37977.00000</td>\n",
              "      <td>547700</td>\n",
              "      <td>51800</td>\n",
              "      <td>1306100.0</td>\n",
              "      <td>291</td>\n",
              "      <td>8187</td>\n",
              "      <td>4255</td>\n",
              "      <td>9</td>\n",
              "      <td>2013</td>\n",
              "      <td>505683</td>\n",
              "      <td>103</td>\n",
              "      <td>26</td>\n",
              "      <td>1219</td>\n",
              "      <td>0.000</td>\n",
              "      <td>-73.2258</td>\n",
              "      <td>44.48770</td>\n",
              "    </tr>\n",
              "  </tbody>\n",
              "</table>\n",
              "</div>"
            ],
            "text/plain": [
              "   LandUse  CurrentAcres  TotalGrossArea  FinishedArea  CurrentLandValue  \\\n",
              "0     5176       0.05597            1760     840.00000            121600   \n",
              "1     5176       0.08242            2676    1436.00000             94400   \n",
              "2     2150       0.00000            2184    1572.80005                 0   \n",
              "3     5176       0.09832            3699    2087.00000            130100   \n",
              "4      367       0.70154           62852   37977.00000            547700   \n",
              "\n",
              "   CurrentYardItemsValue  CurrentBuildingValue  BuildingType  HeatFuel  \\\n",
              "0                      0               30900.0          2168      1039   \n",
              "1                    700              146800.0            83      8187   \n",
              "2                      0              268000.0           482      8187   \n",
              "3                      0              210700.0          2168      8187   \n",
              "4                  51800             1306100.0           291      8187   \n",
              "\n",
              "   HeatType  Grade  YearBlt  SalePrice  NumofRooms  NumofUnits  Foundation  \\\n",
              "0      3893      5     1912     158000           5           1        2628   \n",
              "1      4255      7     1899     231750           7           1        2628   \n",
              "2      4255     10     1986     381500           6           1        1219   \n",
              "3      3893      8     1910     430000           8           1        2628   \n",
              "4      4255      9     2013     505683         103          26        1219   \n",
              "\n",
              "   Depreciation  PropertyCenterPoint_x  PropertyCenterPoint_y  \n",
              "0         0.359               -73.2122               44.46910  \n",
              "1         0.098               -73.2125               44.48854  \n",
              "2         0.025               -73.2681               44.52157  \n",
              "3         0.174               -73.2051               44.48153  \n",
              "4         0.000               -73.2258               44.48770  "
            ]
          },
          "metadata": {
            "tags": []
          },
          "execution_count": 42
        }
      ]
    },
    {
      "metadata": {
        "id": "3C7Jzz2iMo-L",
        "colab_type": "text"
      },
      "cell_type": "markdown",
      "source": [
        "## The columns that orginally contain categorical data will be transformed by OneHotEncoding for better machine learning results."
      ]
    },
    {
      "metadata": {
        "id": "Jj3rKJxYMo-S",
        "colab_type": "text"
      },
      "cell_type": "markdown",
      "source": [
        "#### Encode LandUse"
      ]
    },
    {
      "metadata": {
        "id": "6ohPHVZZMo-W",
        "colab_type": "code",
        "outputId": "2edf27e8-7da5-4397-c802-cf075d5108cd",
        "colab": {
          "base_uri": "https://localhost:8080/",
          "height": 153
        }
      },
      "cell_type": "code",
      "source": [
        "LandUseCoded = pd.get_dummies(df_feature.LandUse,prefix='LandUse', drop_first=True)\n",
        "df_feature = pd.concat([df_feature,LandUseCoded],axis=1)\n",
        "df_feature.drop(['LandUse'],axis=1, inplace=True)\n",
        "df_feature.columns"
      ],
      "execution_count": 43,
      "outputs": [
        {
          "output_type": "execute_result",
          "data": {
            "text/plain": [
              "Index(['CurrentAcres', 'TotalGrossArea', 'FinishedArea', 'CurrentLandValue',\n",
              "       'CurrentYardItemsValue', 'CurrentBuildingValue', 'BuildingType',\n",
              "       'HeatFuel', 'HeatType', 'Grade', 'YearBlt', 'SalePrice', 'NumofRooms',\n",
              "       'NumofUnits', 'Foundation', 'Depreciation', 'PropertyCenterPoint_x',\n",
              "       'PropertyCenterPoint_y', 'LandUse_8', 'LandUse_43', 'LandUse_45',\n",
              "       'LandUse_117', 'LandUse_239', 'LandUse_285', 'LandUse_367',\n",
              "       'LandUse_369', 'LandUse_1041', 'LandUse_2150', 'LandUse_5176'],\n",
              "      dtype='object')"
            ]
          },
          "metadata": {
            "tags": []
          },
          "execution_count": 43
        }
      ]
    },
    {
      "metadata": {
        "id": "SlrwUr5MMo-v",
        "colab_type": "text"
      },
      "cell_type": "markdown",
      "source": [
        "#### Encode BuildingType"
      ]
    },
    {
      "metadata": {
        "id": "vOO3SnBnMo-4",
        "colab_type": "code",
        "outputId": "4ed5503b-2bd9-4c5a-cd88-53d0b117760a",
        "colab": {
          "base_uri": "https://localhost:8080/",
          "height": 357
        }
      },
      "cell_type": "code",
      "source": [
        "BuildingTypeCoded = pd.get_dummies(df_feature.BuildingType,prefix='BuildingType', drop_first=True)\n",
        "df_feature = pd.concat([df_feature,BuildingTypeCoded],axis=1)\n",
        "df_feature.drop(['BuildingType'],axis=1, inplace=True)\n",
        "df_feature.columns"
      ],
      "execution_count": 44,
      "outputs": [
        {
          "output_type": "execute_result",
          "data": {
            "text/plain": [
              "Index(['CurrentAcres', 'TotalGrossArea', 'FinishedArea', 'CurrentLandValue',\n",
              "       'CurrentYardItemsValue', 'CurrentBuildingValue', 'HeatFuel', 'HeatType',\n",
              "       'Grade', 'YearBlt', 'SalePrice', 'NumofRooms', 'NumofUnits',\n",
              "       'Foundation', 'Depreciation', 'PropertyCenterPoint_x',\n",
              "       'PropertyCenterPoint_y', 'LandUse_8', 'LandUse_43', 'LandUse_45',\n",
              "       'LandUse_117', 'LandUse_239', 'LandUse_285', 'LandUse_367',\n",
              "       'LandUse_369', 'LandUse_1041', 'LandUse_2150', 'LandUse_5176',\n",
              "       'BuildingType_8', 'BuildingType_9', 'BuildingType_11',\n",
              "       'BuildingType_12', 'BuildingType_14', 'BuildingType_22',\n",
              "       'BuildingType_24', 'BuildingType_30', 'BuildingType_31',\n",
              "       'BuildingType_39', 'BuildingType_44', 'BuildingType_46',\n",
              "       'BuildingType_60', 'BuildingType_81', 'BuildingType_83',\n",
              "       'BuildingType_87', 'BuildingType_101', 'BuildingType_103',\n",
              "       'BuildingType_108', 'BuildingType_110', 'BuildingType_111',\n",
              "       'BuildingType_144', 'BuildingType_147', 'BuildingType_162',\n",
              "       'BuildingType_219', 'BuildingType_291', 'BuildingType_298',\n",
              "       'BuildingType_338', 'BuildingType_482', 'BuildingType_589',\n",
              "       'BuildingType_1028', 'BuildingType_1193', 'BuildingType_1389',\n",
              "       'BuildingType_2168'],\n",
              "      dtype='object')"
            ]
          },
          "metadata": {
            "tags": []
          },
          "execution_count": 44
        }
      ]
    },
    {
      "metadata": {
        "id": "iuFSwnS8Mo_a",
        "colab_type": "text"
      },
      "cell_type": "markdown",
      "source": [
        "#### Encode HeatFuel"
      ]
    },
    {
      "metadata": {
        "id": "xzNRw2fFMo_i",
        "colab_type": "code",
        "colab": {}
      },
      "cell_type": "code",
      "source": [
        "HeatFuelCoded = pd.get_dummies(df_feature.HeatFuel,prefix='HeatFuel', drop_first=True)\n",
        "df_feature = pd.concat([df_feature,HeatFuelCoded],axis=1)\n",
        "df_feature.drop(['HeatFuel'],axis=1, inplace=True)"
      ],
      "execution_count": 0,
      "outputs": []
    },
    {
      "metadata": {
        "id": "j2kDMb5SMpAL",
        "colab_type": "text"
      },
      "cell_type": "markdown",
      "source": [
        "#### Encode HeatType"
      ]
    },
    {
      "metadata": {
        "id": "cEl3za3FMpAQ",
        "colab_type": "code",
        "colab": {}
      },
      "cell_type": "code",
      "source": [
        "HeatTypeCoded = pd.get_dummies(df_feature.HeatType,prefix='HeatType', drop_first=True)\n",
        "df_feature = pd.concat([df_feature,HeatTypeCoded],axis=1)\n",
        "df_feature.drop(['HeatType'],axis=1, inplace=True)"
      ],
      "execution_count": 0,
      "outputs": []
    },
    {
      "metadata": {
        "id": "GTN6mBW5MpAk",
        "colab_type": "text"
      },
      "cell_type": "markdown",
      "source": [
        "#### Encode Foundation"
      ]
    },
    {
      "metadata": {
        "id": "2Yuoyr6kMpAn",
        "colab_type": "code",
        "colab": {}
      },
      "cell_type": "code",
      "source": [
        "FoundationCoded = pd.get_dummies(df_feature.Foundation,prefix='Foundation', drop_first=True)\n",
        "df_feature = pd.concat([df_feature,FoundationCoded],axis=1)\n",
        "df_feature.drop(['Foundation'],axis=1, inplace=True)"
      ],
      "execution_count": 0,
      "outputs": []
    },
    {
      "metadata": {
        "id": "eBzz6_g4MpBK",
        "colab_type": "text"
      },
      "cell_type": "markdown",
      "source": [
        "### Store the df_feature data set for future use."
      ]
    },
    {
      "metadata": {
        "id": "qdRXngWEMpBT",
        "colab_type": "code",
        "colab": {}
      },
      "cell_type": "code",
      "source": [
        "df_feature.to_csv('Ready_for_machine_learning_2019_2_3.csv',index=False)"
      ],
      "execution_count": 0,
      "outputs": []
    },
    {
      "metadata": {
        "id": "3blifqaLMpBu",
        "colab_type": "text"
      },
      "cell_type": "markdown",
      "source": [
        "## Training and Test Datasets\n",
        "\n",
        "When fitting models, we would like to ensure two things:\n",
        "\n",
        "* We have found the best model (in terms of model parameters).\n",
        "* The model is highly likely to generalize i.e. perform well on unseen data.\n"
      ]
    },
    {
      "metadata": {
        "id": "Koa6TNYAMpB1",
        "colab_type": "text"
      },
      "cell_type": "markdown",
      "source": [
        "#### Set the target and variables"
      ]
    },
    {
      "metadata": {
        "id": "dltkbQF5MpB5",
        "colab_type": "code",
        "colab": {}
      },
      "cell_type": "code",
      "source": [
        "X = df_feature.drop(columns=['SalePrice'])\n",
        "y = df_feature.SalePrice"
      ],
      "execution_count": 0,
      "outputs": []
    },
    {
      "metadata": {
        "id": "8CjzXVFJMpCF",
        "colab_type": "text"
      },
      "cell_type": "markdown",
      "source": [
        "#### Generate Training and Test sets, and perform scaling"
      ]
    },
    {
      "metadata": {
        "id": "NZ2XQm1DMpCI",
        "colab_type": "code",
        "outputId": "817dbbab-cc56-4f51-b115-ffbc21c090b9",
        "colab": {
          "base_uri": "https://localhost:8080/",
          "height": 139
        }
      },
      "cell_type": "code",
      "source": [
        "from sklearn.model_selection import train_test_split\n",
        "X_train, X_test, y_train, y_test = train_test_split(X, y, test_size=0.2, random_state=0)\n",
        "from sklearn.preprocessing import StandardScaler\n",
        "scaler = StandardScaler()\n",
        "X_train = scaler.fit_transform(X_train)\n",
        "X_test = scaler.transform(X_test)"
      ],
      "execution_count": 58,
      "outputs": [
        {
          "output_type": "stream",
          "text": [
            "/usr/local/lib/python3.6/dist-packages/sklearn/preprocessing/data.py:625: DataConversionWarning: Data with input dtype uint8, int64, float64 were all converted to float64 by StandardScaler.\n",
            "  return self.partial_fit(X, y)\n",
            "/usr/local/lib/python3.6/dist-packages/sklearn/base.py:462: DataConversionWarning: Data with input dtype uint8, int64, float64 were all converted to float64 by StandardScaler.\n",
            "  return self.fit(X, **fit_params).transform(X)\n",
            "/usr/local/lib/python3.6/dist-packages/ipykernel_launcher.py:6: DataConversionWarning: Data with input dtype uint8, int64, float64 were all converted to float64 by StandardScaler.\n",
            "  \n"
          ],
          "name": "stderr"
        }
      ]
    },
    {
      "metadata": {
        "id": "PB1nLHz5Q8la",
        "colab_type": "text"
      },
      "cell_type": "markdown",
      "source": [
        "We have set up the traning and test set with a random choice of 80/20 separation. Now it is time to establish machine learning models. We start with the traditional Gradient Boosting Regression.  "
      ]
    },
    {
      "metadata": {
        "id": "fKTMeNYaMpCo",
        "colab_type": "text"
      },
      "cell_type": "markdown",
      "source": [
        "## Gradient Boosting Regression \n",
        "\n"
      ]
    },
    {
      "metadata": {
        "id": "IRTIdyPb2K6f",
        "colab_type": "text"
      },
      "cell_type": "markdown",
      "source": [
        "#### First, check the accuracy of the model with default settings."
      ]
    },
    {
      "metadata": {
        "id": "qfmdSOK1UwyY",
        "colab_type": "code",
        "outputId": "3c0e57d5-fd48-4efc-bc68-21ee3a26e683",
        "colab": {
          "base_uri": "https://localhost:8080/",
          "height": 51
        }
      },
      "cell_type": "code",
      "source": [
        "from sklearn.metrics import mean_squared_error\n",
        "from sklearn.ensemble import GradientBoostingRegressor\n",
        "reg = GradientBoostingRegressor(random_state=0)\n",
        "reg.fit(X_train, y_train)\n",
        "rmse = np.sqrt(mean_squared_error(y_test, reg.predict(X_test)))\n",
        "print(\"RMSE: %.4f\" % rmse)\n",
        "print(\"MAPE: %.4f\" % np.mean(np.abs(reg.predict(X_test)-y_test)/y_test))"
      ],
      "execution_count": 22,
      "outputs": [
        {
          "output_type": "stream",
          "text": [
            "RMSE: 100923.5191\n",
            "MAPE: 0.2143\n"
          ],
          "name": "stdout"
        }
      ]
    },
    {
      "metadata": {
        "id": "jaUPsBKz4f7j",
        "colab_type": "text"
      },
      "cell_type": "markdown",
      "source": [
        "#### Next, we search models with the the lowest RMSE and the lowest MAPE. The loss function is chosen to be 'huber'. Three parameters are chosen to be tuned.\n",
        "* N_estimators: The number of boosting stages to perform. from 50 to 500 with a step of 50.\n",
        "* Max_depth: the maximum depth of the individual regression estimators from 2 to 8.\n",
        "* Alpha: set the weights of the least square error and the least absolute deviation as the loss function 'huber' ues a combination of the two to evaluate error. We test the alphas of 0.1, 0.3, 0.5, 0.7, 0.9\n",
        "##### Details on the parameters can be found in (https://scikit-learn.org/stable/modules/generated/sklearn.ensemble.GradientBoostingRegressor.html). A finer grid search on more parameters will potentially result in better models. We use the current tuning method which is much less time-expensive but gives some satisfying results also. "
      ]
    },
    {
      "metadata": {
        "id": "PPLlrowWUFRJ",
        "colab_type": "code",
        "colab": {
          "base_uri": "https://localhost:8080/",
          "height": 204
        },
        "outputId": "68945da4-84e4-4482-aa02-f8e78d0ac430"
      },
      "cell_type": "code",
      "source": [
        "# Initial model \n",
        "reg0 = GradientBoostingRegressor(random_state=0)\n",
        "reg0.fit(X_train, y_train)\n",
        "rmse0 = np.sqrt(mean_squared_error(y_test, reg0.predict(X_test)))\n",
        "mape0 = np.mean(np.abs(reg0.predict(X_test)-y_test)/y_test)\n",
        "\n",
        "# Initialize the best RMSE/MPE model and parameters\n",
        "RMSEbest_reg = reg0\n",
        "RMSEbest_rmse = rmse0\n",
        "RMSEbest_mape = mape0\n",
        "RMSEbest_n_est = 100 # default\n",
        "RMSEbest_max_depth = 3 # default\n",
        "RMSEbest_alpha = 0.9 # default\n",
        "\n",
        "MAPEbest_reg = reg0\n",
        "MAPEbest_rmse = rmse0\n",
        "MAPEbest_mape = mape0\n",
        "MAPEbest_n_est = 100 # default\n",
        "MAPEbest_max_depth = 3 # default\n",
        "MAPEbest_alpha = 0.9 # default\n",
        " \n",
        "# Search for the best models\n",
        "N_est = np.arange(50,550,50)\n",
        "Depth = np.arange(2,9,1)\n",
        "Alpha = np.arange(0.1,1,0.2) \n",
        "for n_est in N_est: \n",
        "    for d in Depth:\n",
        "        for alp in Alpha:\n",
        "            reg = GradientBoostingRegressor(loss='huber', n_estimators=n_est, max_depth=d, alpha=alp, random_state=0)\n",
        "            reg.fit(X_train, y_train)\n",
        "            rmse = np.sqrt(mean_squared_error(y_test, reg.predict(X_test)))\n",
        "            mape = np.mean(np.abs(reg.predict(X_test)-y_test)/y_test)\n",
        "            \n",
        "            if rmse<RMSEbest_rmse: #### Search for the model with lowest RMSE\n",
        "                RMSEbest_reg = reg\n",
        "                RMSEbest_rmse = rmse\n",
        "                RMSEbest_mape = mape \n",
        "                RMSEbest_n_est = n_est\n",
        "                RMSEbest_max_depth = d\n",
        "                RMSEbest_alpha = alp\n",
        "\n",
        "            if mape<MAPEbest_mape: #### Search for the model with lowest MAPE\n",
        "                MAPEbest_reg = reg\n",
        "                MAPEbest_rmse = rmse\n",
        "                MAPEbest_mape = mape \n",
        "                MAPEbest_n_est = n_est\n",
        "                MAPEbest_max_depth = d\n",
        "                MAPEbest_alpha = alp              \n",
        "            \n",
        "print(\"RMSE_best n_estimators = %.0f\" % RMSEbest_n_est)           \n",
        "print(\"RMSE best depth = %.0f\" % RMSEbest_max_depth)\n",
        "print(\"RMSE best alpha = %.1f\" % RMSEbest_alpha)\n",
        "print(\"RMSE best rmse = %.4f\" % RMSEbest_rmse)\n",
        "print(\"RMSE best mape = %.4f\" % RMSEbest_mape)  \n",
        "\n",
        "print(\"______________________________________\")\n",
        "\n",
        "print(\"MAPE_best n_estimators = %.0f\" % MAPEbest_n_est)           \n",
        "print(\"MAPE best depth = %.0f\" % MAPEbest_max_depth)\n",
        "print(\"MAPE best alpha = %.1f\" % MAPEbest_alpha)\n",
        "print(\"MAPE best rmse = %.4f\" % MAPEbest_rmse)\n",
        "print(\"MAPE best mape = %.4f\" % MAPEbest_mape) \n"
      ],
      "execution_count": 13,
      "outputs": [
        {
          "output_type": "stream",
          "text": [
            "RMSE_best n_estimators = 100\n",
            "RMSE best depth = 6\n",
            "RMSE best alpha = 0.9\n",
            "RMSE best rmse = 98381.6365\n",
            "RMSE best mape = 0.2007\n",
            "______________________________________\n",
            "MAPE_best n_estimators = 150\n",
            "MAPE best depth = 4\n",
            "MAPE best alpha = 0.9\n",
            "MAPE best rmse = 99671.0082\n",
            "MAPE best mape = 0.1951\n"
          ],
          "name": "stdout"
        }
      ]
    },
    {
      "metadata": {
        "id": "aCYL33D0CuOl",
        "colab_type": "text"
      },
      "cell_type": "markdown",
      "source": [
        "###Results: Compared to the model with default parameters. The models with the lowest RMSE/MAPE are improved in predicting unseen data. \n",
        "* The model with the lowest RSME is the model with loss='huber', n_estimator=100, max_depth=6, alpha=0.9. It has RSME=98382 and MAPE=20.07%. \n",
        "* The model with the lowest MAPE is the model with loss='huber', n_estimator=150, max_depth=4, alpha=0.9. It has RSME=99671 and MAPE=19.51%."
      ]
    },
    {
      "metadata": {
        "id": "zJDN4VynDbCm",
        "colab_type": "text"
      },
      "cell_type": "markdown",
      "source": [
        "### To conclude the analysis on gradient boosting regression models, the feature importance of the best models will be shown."
      ]
    },
    {
      "metadata": {
        "id": "Uf-6hW3rEArW",
        "colab_type": "text"
      },
      "cell_type": "markdown",
      "source": [
        "#### First, we will see the top ten features in the RMSE_best model(loss='huber', n_estimators=100, max_depth=6, alpha=0.9, RMSE=98382, MAPE=20.07%). \n",
        "* The top ten features in the RMSE_best model from the most important to the least important are: 1.FinishedArea, 2.CurrentBuildingValue, 3.CurrentLandValue, 4.TotalGrossArea, 5.LandUse_117, 6.Grade, 7.Depreciation, 8.PropertyCenterPoint_x, 9.YearBlt, 10.PropertyCenterPoint_y."
      ]
    },
    {
      "metadata": {
        "id": "3lBsIfd1MpGV",
        "colab_type": "code",
        "colab": {
          "base_uri": "https://localhost:8080/",
          "height": 85
        },
        "outputId": "621fa86b-7c06-4d6b-ce32-1741cf7c0c7d"
      },
      "cell_type": "code",
      "source": [
        "RMSEbest_reg = GradientBoostingRegressor(loss='huber',n_estimators=100,max_depth=6,alpha=0.9,random_state=0)\n",
        "RMSEbest_reg.fit(X_train, y_train)\n",
        "\n",
        "\n",
        "RMSEbest_feature_importance = RMSEbest_reg.feature_importances_\n",
        "# make importances relative to max importance\n",
        "RMSEbest_feature_importance = 100.0 * (RMSEbest_feature_importance / RMSEbest_feature_importance.max())\n",
        "sorted_idx = np.argsort(RMSEbest_feature_importance)[-10:]\n",
        "print(X.columns[sorted_idx])"
      ],
      "execution_count": 19,
      "outputs": [
        {
          "output_type": "stream",
          "text": [
            "Index(['PropertyCenterPoint_y', 'YearBlt', 'PropertyCenterPoint_x',\n",
            "       'Depreciation', 'Grade', 'LandUse_117', 'TotalGrossArea',\n",
            "       'CurrentLandValue', 'CurrentBuildingValue', 'FinishedArea'],\n",
            "      dtype='object')\n"
          ],
          "name": "stdout"
        }
      ]
    },
    {
      "metadata": {
        "id": "Amk4Xqp2KRdz",
        "colab_type": "code",
        "colab": {
          "base_uri": "https://localhost:8080/",
          "height": 376
        },
        "outputId": "87500be6-5d2f-436c-98b2-de502a82293d"
      },
      "cell_type": "code",
      "source": [
        "import matplotlib.pyplot as plt\n",
        "pos = np.arange(sorted_idx.shape[0]) + .5\n",
        "plt.barh(pos, RMSEbest_feature_importance[sorted_idx], align='center')\n",
        "plt.yticks(pos, X.columns[sorted_idx])\n",
        "plt.xlabel('Relative Importance')\n",
        "plt.title('Top 10 Variable Importance in RMSE_best Model')\n",
        "plt.show()"
      ],
      "execution_count": 21,
      "outputs": [
        {
          "output_type": "display_data",
          "data": {
            "image/png": "[encoded data removed]",
            "text/plain": [
              "<Figure size 576x396 with 1 Axes>"
            ]
          },
          "metadata": {
            "tags": []
          }
        }
      ]
    },
    {
      "metadata": {
        "id": "kwmXIQj1LRmi",
        "colab_type": "text"
      },
      "cell_type": "markdown",
      "source": [
        "#### Second, we will see the top ten features in the MAPE_best model(loss='huber', n_estimators=150, max_depth=4, alpha=0.9, RMSE=99671, MAPE=19.51%). \n",
        "* The top ten features in the RMSE_best model from the most important to the least important are: 1.CurrentBuildingValue, 2.CurrentLandValue, 3.FinishedArea, 4.TotalGrossArea, 5.Grade, 6.LandUse_117, 7.Depreciation, 8.PropertyCenterPoint_x, 9.PropertyCenterPoint_y, 10.CurrentAcres."
      ]
    },
    {
      "metadata": {
        "id": "CXtCnpN-L-Sp",
        "colab_type": "code",
        "colab": {
          "base_uri": "https://localhost:8080/",
          "height": 85
        },
        "outputId": "e2415310-3fc3-4cd0-ab81-aea14a17f3a8"
      },
      "cell_type": "code",
      "source": [
        "MAPEbest_reg = GradientBoostingRegressor(loss='huber',n_estimators=150,max_depth=4,alpha=0.9,random_state=0)\n",
        "MAPEbest_reg.fit(X_train, y_train)\n",
        "\n",
        "\n",
        "MAPEbest_feature_importance = MAPEbest_reg.feature_importances_\n",
        "# make importances relative to max importance\n",
        "MAPEbest_feature_importance = 100.0 * (MAPEbest_feature_importance / MAPEbest_feature_importance.max())\n",
        "sorted_idx = np.argsort(MAPEbest_feature_importance)[-10:]\n",
        "print(X.columns[sorted_idx])"
      ],
      "execution_count": 23,
      "outputs": [
        {
          "output_type": "stream",
          "text": [
            "Index(['CurrentAcres', 'PropertyCenterPoint_y', 'PropertyCenterPoint_x',\n",
            "       'Depreciation', 'LandUse_117', 'Grade', 'TotalGrossArea',\n",
            "       'FinishedArea', 'CurrentLandValue', 'CurrentBuildingValue'],\n",
            "      dtype='object')\n"
          ],
          "name": "stdout"
        }
      ]
    },
    {
      "metadata": {
        "id": "mSevaT7YNA_4",
        "colab_type": "code",
        "colab": {
          "base_uri": "https://localhost:8080/",
          "height": 376
        },
        "outputId": "e7781cf3-1c0d-4f38-819d-9c1cc5b7671e"
      },
      "cell_type": "code",
      "source": [
        "import matplotlib.pyplot as plt\n",
        "pos = np.arange(sorted_idx.shape[0]) + .5\n",
        "plt.barh(pos, MAPEbest_feature_importance[sorted_idx], align='center')\n",
        "plt.yticks(pos, X.columns[sorted_idx])\n",
        "plt.xlabel('Relative Importance')\n",
        "plt.title('Top 10 Variable Importance in MAPE_best Model')\n",
        "plt.show()"
      ],
      "execution_count": 24,
      "outputs": [
        {
          "output_type": "display_data",
          "data": {
            "image/png": "[encoded data removed]",
            "text/plain": [
              "<Figure size 576x396 with 1 Axes>"
            ]
          },
          "metadata": {
            "tags": []
          }
        }
      ]
    },
    {
      "metadata": {
        "id": "1ri8IDzHNbOB",
        "colab_type": "text"
      },
      "cell_type": "markdown",
      "source": [
        "### Conlusions\n",
        "* The estimation of SalePrice of the Gradient Boosting Regression can achieve an RSME about $99000 and an MAPE about 20%.\n",
        "* The dominating features in the Gradient Boosting Regression are CurrentBuildingValue, CurrentLandValue, and FinishedArea.\n",
        "* Other features that are less significant but also helpful in the estimation of sale prices are TotalGrossArea, Grade of the housing property, Depreciation of the housing property, CurrentAcres, Location, IsMobileHome(LandUse_117), YearBlt."
      ]
    },
    {
      "metadata": {
        "id": "pHDUpIrwRwK7",
        "colab_type": "text"
      },
      "cell_type": "markdown",
      "source": [
        "Next, we will try XGBoosting Regression which is an advanced version of Gradient Boosting Regression. Presumably, higher accuracy on estimation of sale prices can be achieved."
      ]
    },
    {
      "metadata": {
        "id": "TQmTk6ojQvKd",
        "colab_type": "text"
      },
      "cell_type": "markdown",
      "source": [
        "## XGBoosting Regression"
      ]
    },
    {
      "metadata": {
        "id": "hx8kA51VTKGF",
        "colab_type": "text"
      },
      "cell_type": "markdown",
      "source": [
        "#### First, check the accuracy of the model with default settings."
      ]
    },
    {
      "metadata": {
        "id": "kbM81G7KSh8s",
        "colab_type": "code",
        "colab": {
          "base_uri": "https://localhost:8080/",
          "height": 51
        },
        "outputId": "7ca6f046-1be2-44ae-9127-f0f685ec5819"
      },
      "cell_type": "code",
      "source": [
        "import xgboost as xgb\n",
        "from sklearn.metrics import mean_squared_error\n",
        "xgbreg = xgb.XGBRegressor(random_state=0)\n",
        "xgbreg.fit(X_train, y_train)\n",
        "rmse = np.sqrt(mean_squared_error(y_test, xgbreg.predict(X_test)))\n",
        "print(\"RMSE: %.4f\" % rmse)\n",
        "print(\"MAPE: %.4f\" % np.mean(np.abs(xgbreg.predict(X_test)-y_test)/y_test))"
      ],
      "execution_count": 12,
      "outputs": [
        {
          "output_type": "stream",
          "text": [
            "RMSE: 103612.4435\n",
            "MAPE: 0.2267\n"
          ],
          "name": "stdout"
        }
      ]
    },
    {
      "metadata": {
        "id": "o96m5JphTVMQ",
        "colab_type": "text"
      },
      "cell_type": "markdown",
      "source": [
        "#### Next, we search models with the the lowest RMSE and the lowest MAPE. Three parameters are chosen to be tuned.\n",
        "* N_Estimators: Number of boosted trees to fit from 50 to 500 with a step of 50.\n",
        "* Max_depth: Maximum depth of the individual regression estimators from 2 to 8.\n",
        "* Learning_rate(Eta): Boosting learning rate(Step size shrinkage used in update to prevents overfitting). We test the etas of 0.1, 0.3, 0.5, 0.7, 0.9\n",
        "##### Details on the parameters can be found in (https://xgboost.readthedocs.io/en/latest/python/python_api.html). A finer grid search on more parameters will potentially result in better models. We use the current tuning method which is much less time-expensive but gives some satisfying results also. "
      ]
    },
    {
      "metadata": {
        "id": "XJ31DtdIUdZc",
        "colab_type": "code",
        "colab": {
          "base_uri": "https://localhost:8080/",
          "height": 204
        },
        "outputId": "0d608ec3-34d4-4fca-a42d-1e9ffddba425"
      },
      "cell_type": "code",
      "source": [
        "# Initial model \n",
        "reg0 = xgb.XGBRegressor(random_state=0)\n",
        "reg0.fit(X_train, y_train)\n",
        "rmse0 = np.sqrt(mean_squared_error(y_test, reg0.predict(X_test)))\n",
        "mape0 = np.mean(np.abs(reg0.predict(X_test)-y_test)/y_test)\n",
        "\n",
        "# Initialize the best RMSE/MPE model and parameters\n",
        "RMSEbest_reg = reg0\n",
        "RMSEbest_rmse = rmse0\n",
        "RMSEbest_mape = mape0\n",
        "RMSEbest_n_estimators = 100 # default\n",
        "RMSEbest_max_depth = 3 # default\n",
        "RMSEbest_learning_rate = 0.1 # default\n",
        "\n",
        "\n",
        "MAPEbest_reg = reg0\n",
        "MAPEbest_rmse = rmse0\n",
        "MAPEbest_mape = mape0\n",
        "MAPEbest_n_estimators = 100 # default\n",
        "MAPEbest_max_depth = 3 # default\n",
        "MAPEbest_learning_rate = 0.1 # default\n",
        "\n",
        "\n",
        "# Search for the best models\n",
        "N_estimators = np.arange(50,550,50)\n",
        "Depth = np.arange(2,9,1)\n",
        "Learning_rate = np.arange(0.1,1,0.2) \n",
        "\n",
        "for n_est in N_estimators: \n",
        "    for d in Depth:\n",
        "        for lr in Learning_rate:\n",
        "            reg = xgb.XGBRegressor(n_estimators=n_est, max_depth=d, learning_rate=lr, random_state=0)\n",
        "            reg.fit(X_train, y_train)\n",
        "            rmse = np.sqrt(mean_squared_error(y_test, reg.predict(X_test)))\n",
        "            mape = np.mean(np.abs(reg.predict(X_test)-y_test)/y_test)\n",
        "            \n",
        "            if rmse<RMSEbest_rmse: #### Search for the model with lowest RMSE\n",
        "                RMSEbest_reg = reg\n",
        "                RMSEbest_rmse = rmse\n",
        "                RMSEbest_mape = mape \n",
        "                RMSEbest_n_estimators = n_est\n",
        "                RMSEbest_max_depth = d\n",
        "                RMSEbest_learning_rate = lr\n",
        "\n",
        "            if mape<MAPEbest_mape: #### Search for the model with lowest MAPE\n",
        "                MAPEbest_reg = reg\n",
        "                MAPEbest_rmse = rmse\n",
        "                MAPEbest_mape = mape \n",
        "                MAPEbest_n_estimators = n_est\n",
        "                MAPEbest_max_depth = d\n",
        "                MAPEbest_learning_rate = lr              \n",
        "            \n",
        "print(\"RMSE_best n_estimators = %.0f\" % RMSEbest_n_estimators)           \n",
        "print(\"RMSE_best max_depth = %.0f\" % RMSEbest_max_depth)\n",
        "print(\"RMSE_best learning_rate = %.1f\" % RMSEbest_learning_rate)\n",
        "print(\"RMSE_best rmse = %.4f\" % RMSEbest_rmse)\n",
        "print(\"RMSE_best mape = %.4f\" % RMSEbest_mape)  \n",
        "\n",
        "print(\"______________________________________\")\n",
        "\n",
        "print(\"MAPE_best n_estimators = %.0f\" % MAPEbest_n_estimators)           \n",
        "print(\"MAPE_best max_depth = %.0f\" % MAPEbest_max_depth)\n",
        "print(\"MAPE_best learning_rate = %.1f\" % MAPEbest_learning_rate)\n",
        "print(\"MAPE_best rmse = %.4f\" % MAPEbest_rmse)\n",
        "print(\"MAPE_best mape = %.4f\" % MAPEbest_mape) \n"
      ],
      "execution_count": 28,
      "outputs": [
        {
          "output_type": "stream",
          "text": [
            "RMSE_best n_estimators = 50\n",
            "RMSE_best max_depth = 6\n",
            "RMSE_best learning_rate = 0.1\n",
            "RMSE_best rmse = 97922.2632\n",
            "RMSE_best mape = 0.2054\n",
            "______________________________________\n",
            "MAPE_best n_estimators = 100\n",
            "MAPE_best max_depth = 6\n",
            "MAPE_best learning_rate = 0.1\n",
            "MAPE_best rmse = 99236.9281\n",
            "MAPE_best mape = 0.2000\n"
          ],
          "name": "stdout"
        }
      ]
    },
    {
      "metadata": {
        "id": "3AhezHsYkKQq",
        "colab_type": "text"
      },
      "cell_type": "markdown",
      "source": [
        "###Results: Compared to the model with default parameters. The models with the lowest RMSE/MAPE are improved in predicting unseen data. \n",
        "* The model with the lowest RSME is the model with n_estimator=50, max_depth=6, learning_rate=0.1. It has RSME=97922 and MAPE=20.54%. \n",
        "* The model with the lowest MAPE is the model with n_estimator=100, max_depth=6, learning_rate=0.1. It has RSME=99236 and MAPE=20.00%."
      ]
    },
    {
      "metadata": {
        "id": "pQkRV0rIk3vX",
        "colab_type": "text"
      },
      "cell_type": "markdown",
      "source": [
        "### To conclude the analysis on XGBoosting regression models, the feature importance of the best models will be shown."
      ]
    },
    {
      "metadata": {
        "id": "-jDy1RX7lEZw",
        "colab_type": "text"
      },
      "cell_type": "markdown",
      "source": [
        "#### First, we will see the top ten features in the RMSE_best model( n_estimators=50, max_depth=6, learning_rate=0.1, RMSE=97922, MAPE=20.54%). \n",
        "* The top ten features in the RMSE_best model from the most important to the least important are: 1.CurrentBuildingValue, 2.CurrentLandValue, 3.TotalGrossArea, 4.CurrentAcres, 5.PropertyCenterPoint_x, 6.PropertyCenterPoint_y, 7.Depreciation, 8.FinishedArea, 9.YearBlt, 10.Grade."
      ]
    },
    {
      "metadata": {
        "id": "ySr9wNlqlOkZ",
        "colab_type": "code",
        "colab": {
          "base_uri": "https://localhost:8080/",
          "height": 85
        },
        "outputId": "b25789d6-1013-4a72-915b-299a24bf4e32"
      },
      "cell_type": "code",
      "source": [
        "RMSEbest_reg = xgb.XGBRegressor(n_estimators=50,max_depth=6,learning_rate=0.1,random_state=0)\n",
        "RMSEbest_reg.fit(X_train, y_train)\n",
        "\n",
        "\n",
        "RMSEbest_feature_importance = RMSEbest_reg.feature_importances_\n",
        "# make importances relative to max importance\n",
        "RMSEbest_feature_importance = 100.0 * (RMSEbest_feature_importance / RMSEbest_feature_importance.max())\n",
        "sorted_idx = np.argsort(RMSEbest_feature_importance)[-10:]\n",
        "print(X.columns[sorted_idx])"
      ],
      "execution_count": 14,
      "outputs": [
        {
          "output_type": "stream",
          "text": [
            "Index(['Grade', 'YearBlt', 'FinishedArea', 'Depreciation',\n",
            "       'PropertyCenterPoint_y', 'PropertyCenterPoint_x', 'CurrentAcres',\n",
            "       'TotalGrossArea', 'CurrentLandValue', 'CurrentBuildingValue'],\n",
            "      dtype='object')\n"
          ],
          "name": "stdout"
        }
      ]
    },
    {
      "metadata": {
        "id": "HBzRr1-EpTI4",
        "colab_type": "code",
        "colab": {
          "base_uri": "https://localhost:8080/",
          "height": 376
        },
        "outputId": "40c1bffe-cec8-427f-d6f7-996021d4ee57"
      },
      "cell_type": "code",
      "source": [
        "import matplotlib.pyplot as plt\n",
        "pos = np.arange(sorted_idx.shape[0]) + .5\n",
        "plt.barh(pos, RMSEbest_feature_importance[sorted_idx], align='center')\n",
        "plt.yticks(pos, X.columns[sorted_idx])\n",
        "plt.xlabel('Relative Importance')\n",
        "plt.title('Top 10 Variable Importance in RMSE_best Model')\n",
        "plt.show()"
      ],
      "execution_count": 15,
      "outputs": [
        {
          "output_type": "display_data",
          "data": {
            "image/png": "[encoded data removed]",
            "text/plain": [
              "<Figure size 576x396 with 1 Axes>"
            ]
          },
          "metadata": {
            "tags": []
          }
        }
      ]
    },
    {
      "metadata": {
        "id": "PiWzpa7kqbvr",
        "colab_type": "text"
      },
      "cell_type": "markdown",
      "source": [
        "#### Second, we will see the top ten features in the MAPE_best model(n_estimators=100, max_depth=6, learning_rate=0.1, RMSE=99236, MAPE=20.00%). \n",
        "* The top ten features in the RMSE_best model from the most important to the least important are: 1.CurrentBuildingValue, 2.CurrentAcres, 3.TotalGrossArea, 4.CurrentLandValue, 5.PropertyCenterPoint_y, 6.PropertyCenterPoint_x, 7.FinishedArea, 8.Depreciation, 9.YearBlt, 10.NumofRooms.  ."
      ]
    },
    {
      "metadata": {
        "id": "zSCkMiJgq4R_",
        "colab_type": "code",
        "colab": {
          "base_uri": "https://localhost:8080/",
          "height": 85
        },
        "outputId": "dfb981a1-efa1-45bc-8c09-9ab41844cff8"
      },
      "cell_type": "code",
      "source": [
        "MAPEbest_reg = xgb.XGBRegressor(n_estimators=100,max_depth=6,learning_rate=0.1,random_state=0)\n",
        "MAPEbest_reg.fit(X_train, y_train)\n",
        "\n",
        "\n",
        "MAPEbest_feature_importance = MAPEbest_reg.feature_importances_\n",
        "# make importances relative to max importance\n",
        "MAPEbest_feature_importance = 100.0 * (MAPEbest_feature_importance / MAPEbest_feature_importance.max())\n",
        "sorted_idx = np.argsort(MAPEbest_feature_importance)[-10:]\n",
        "print(X.columns[sorted_idx])"
      ],
      "execution_count": 19,
      "outputs": [
        {
          "output_type": "stream",
          "text": [
            "Index(['NumofRooms', 'YearBlt', 'Depreciation', 'FinishedArea',\n",
            "       'PropertyCenterPoint_x', 'PropertyCenterPoint_y', 'CurrentLandValue',\n",
            "       'TotalGrossArea', 'CurrentAcres', 'CurrentBuildingValue'],\n",
            "      dtype='object')\n"
          ],
          "name": "stdout"
        }
      ]
    },
    {
      "metadata": {
        "id": "DKk6NZTAsUc2",
        "colab_type": "code",
        "colab": {
          "base_uri": "https://localhost:8080/",
          "height": 376
        },
        "outputId": "0b0462b9-953e-4c0a-b2b9-a3a0801a941a"
      },
      "cell_type": "code",
      "source": [
        "import matplotlib.pyplot as plt\n",
        "pos = np.arange(sorted_idx.shape[0]) + .5\n",
        "plt.barh(pos, MAPEbest_feature_importance[sorted_idx], align='center')\n",
        "plt.yticks(pos, X.columns[sorted_idx])\n",
        "plt.xlabel('Relative Importance')\n",
        "plt.title('Top 10 Variable Importance in MAPE_best Model')\n",
        "plt.show()"
      ],
      "execution_count": 21,
      "outputs": [
        {
          "output_type": "display_data",
          "data": {
            "image/png": "[encoded data removed]",
            "text/plain": [
              "<Figure size 576x396 with 1 Axes>"
            ]
          },
          "metadata": {
            "tags": []
          }
        }
      ]
    },
    {
      "metadata": {
        "id": "RnP-r2prtc1H",
        "colab_type": "text"
      },
      "cell_type": "markdown",
      "source": [
        "### Conlusions\n",
        "* The estimation of SalePrice of the XGBoosting Regression can achieve an RSME about $98000 and an MAPE about 20%.Compared to the classical Gradient Boosting Regression, XGBoosting Regression has the power of reducing RMSE but does not seem to reduce MAPE. \n",
        "* The top 4 features in the XGBoosting Regression are CurrentBuildingValue, CurrentLandValue, CurrentAcres and TotalGrossArea.\n",
        "Other important features are FinishedArea, Depreciation of a housing property, Location, YearBlt, NumofRooms and Grade of a housing property.\n",
        "* The top ten features for XGBoosting are similar to their counterpart in the classical Gradient Boosting. Unlike the classical Gradient Boosting where the top three features are dominating, the top 4 features in XGBoosting do not dominate among the top 10 features."
      ]
    },
    {
      "metadata": {
        "id": "_JrrCMxYv23l",
        "colab_type": "text"
      },
      "cell_type": "markdown",
      "source": [
        "The last tree-based algorithm we will try is the Random Forest Regression. Random Forest uses the idea of bagging(voting by each individual decision tree) instead of Boosting(modelling the error)."
      ]
    },
    {
      "metadata": {
        "id": "c6Jp776nxPGe",
        "colab_type": "text"
      },
      "cell_type": "markdown",
      "source": [
        "## Random Forest Regression\n"
      ]
    },
    {
      "metadata": {
        "id": "3Cea_e2hxWAk",
        "colab_type": "text"
      },
      "cell_type": "markdown",
      "source": [
        "#### First, check the accuracy of the model with default settings."
      ]
    },
    {
      "metadata": {
        "id": "t7ko8ZB9xf5r",
        "colab_type": "code",
        "colab": {
          "base_uri": "https://localhost:8080/",
          "height": 105
        },
        "outputId": "5053944e-4ed5-4fce-da61-fbae47425b12"
      },
      "cell_type": "code",
      "source": [
        "from sklearn.metrics import mean_squared_error\n",
        "from sklearn.ensemble import RandomForestRegressor\n",
        "RFreg = RandomForestRegressor(random_state=0)\n",
        "RFreg.fit(X_train, y_train)\n",
        "rmse = np.sqrt(mean_squared_error(y_test, RFreg.predict(X_test)))\n",
        "print(\"RMSE: %.4f\" % rmse)\n",
        "print(\"MAPE: %.4f\" % np.mean(np.abs(RFreg.predict(X_test)-y_test)/y_test))"
      ],
      "execution_count": 25,
      "outputs": [
        {
          "output_type": "stream",
          "text": [
            "/usr/local/lib/python3.6/dist-packages/sklearn/ensemble/forest.py:246: FutureWarning: The default value of n_estimators will change from 10 in version 0.20 to 100 in 0.22.\n",
            "  \"10 in version 0.20 to 100 in 0.22.\", FutureWarning)\n"
          ],
          "name": "stderr"
        },
        {
          "output_type": "stream",
          "text": [
            "RMSE: 112725.1626\n",
            "MAPE: 0.2123\n"
          ],
          "name": "stdout"
        }
      ]
    },
    {
      "metadata": {
        "id": "7_o7SI_M0_RI",
        "colab_type": "text"
      },
      "cell_type": "markdown",
      "source": [
        "#### Next, we search models with the the lowest RMSE and the lowest MAPE. Three parameters are chosen to be tuned.\n",
        "* N_Estimators: Number of trees from 100 to 500 with a step of 100. \n",
        "* Max_depth: Maximum depth of the individual tree from 100 to 500 with a step of 100. The default is unlimited. We choose a small range to avoid overfitting.\n",
        "* Min_samples_split:  The minimum number of samples required to split an internal node from 2 to 10 with a step size of 2. Note that the default is 2. We choose larger numbers to avoid overfitting.\n",
        "##### Details on the parameters can be found in https://scikit-learn.org/stable/modules/generated/sklearn.ensemble.RandomForestRegressor.html . A finer grid search on more parameters will potentially result in better models. We use the current tuning method which is much less time-expensive but gives some satisfying results also. "
      ]
    },
    {
      "metadata": {
        "id": "PKa9Iy_f4uRC",
        "colab_type": "code",
        "colab": {
          "base_uri": "https://localhost:8080/",
          "height": 258
        },
        "outputId": "b857e56b-066e-494e-8196-8907ee665817"
      },
      "cell_type": "code",
      "source": [
        "# Initial model \n",
        "reg0 = RandomForestRegressor(random_state=0)\n",
        "reg0.fit(X_train, y_train)\n",
        "rmse0 = np.sqrt(mean_squared_error(y_test, reg0.predict(X_test)))\n",
        "mape0 = np.mean(np.abs(reg0.predict(X_test)-y_test)/y_test)\n",
        "\n",
        "# Initialize the best RMSE/MPE model and parameters\n",
        "RMSEbest_reg = reg0\n",
        "RMSEbest_rmse = rmse0\n",
        "RMSEbest_mape = mape0\n",
        "RMSEbest_n_estimators = 10 # default\n",
        "RMSEbest_max_depth = 'None' # default is None\n",
        "RMSEbest_min_samples_split = 2 # default\n",
        "\n",
        "\n",
        "MAPEbest_reg = reg0\n",
        "MAPEbest_rmse = rmse0\n",
        "MAPEbest_mape = mape0\n",
        "MAPEbest_n_estimators = 10 # default\n",
        "MAPEbest_max_depth = 'None' # default is None\n",
        "MAPEbest_min_samples_split = 2 # default\n",
        "\n",
        "\n",
        "# Search for the best models\n",
        "N_estimators = np.arange(100,600,100)\n",
        "Depth = np.arange(100,600,100)\n",
        "Min_samples_split = np.arange(2,12,2) \n",
        "\n",
        "for n_est in N_estimators: \n",
        "    for d in Depth:\n",
        "        for ms in Min_samples_split:\n",
        "            reg = RandomForestRegressor(n_estimators=n_est, max_depth=d, min_samples_split=ms, random_state=0)\n",
        "            reg.fit(X_train, y_train)\n",
        "            rmse = np.sqrt(mean_squared_error(y_test, reg.predict(X_test)))\n",
        "            mape = np.mean(np.abs(reg.predict(X_test)-y_test)/y_test)\n",
        "            \n",
        "            if rmse<RMSEbest_rmse: #### Search for the model with lowest RMSE\n",
        "                RMSEbest_reg = reg\n",
        "                RMSEbest_rmse = rmse\n",
        "                RMSEbest_mape = mape \n",
        "                RMSEbest_n_estimators = n_est\n",
        "                RMSEbest_max_depth = d\n",
        "                RMSEbest_min_samples_split = ms\n",
        "\n",
        "            if mape<MAPEbest_mape: #### Search for the model with lowest MAPE\n",
        "                MAPEbest_reg = reg\n",
        "                MAPEbest_rmse = rmse\n",
        "                MAPEbest_mape = mape \n",
        "                MAPEbest_n_estimators = n_est\n",
        "                MAPEbest_max_depth = d\n",
        "                MAPEbest_min_samples_split = ms              \n",
        "            \n",
        "print(\"RMSE_best n_estimators = %.0f\" % RMSEbest_n_estimators)           \n",
        "print(\"RMSE_best max_depth = %.0f\" % RMSEbest_max_depth)\n",
        "print(\"RMSE_best min_samples_split = %.1f\" % RMSEbest_min_samples_split)\n",
        "print(\"RMSE_best rmse = %.4f\" % RMSEbest_rmse)\n",
        "print(\"RMSE_best mape = %.4f\" % RMSEbest_mape)  \n",
        "\n",
        "print(\"______________________________________\")\n",
        "\n",
        "print(\"MAPE_best n_estimators = %.0f\" % MAPEbest_n_estimators)           \n",
        "print(\"MAPE_best max_depth = %.0f\" % MAPEbest_max_depth)\n",
        "print(\"MAPE_best min_samples_split = %.1f\" % MAPEbest_min_samples_split)\n",
        "print(\"MAPE_best rmse = %.4f\" % MAPEbest_rmse)\n",
        "print(\"MAPE_best mape = %.4f\" % MAPEbest_mape) \n"
      ],
      "execution_count": 29,
      "outputs": [
        {
          "output_type": "stream",
          "text": [
            "/usr/local/lib/python3.6/dist-packages/sklearn/ensemble/forest.py:246: FutureWarning: The default value of n_estimators will change from 10 in version 0.20 to 100 in 0.22.\n",
            "  \"10 in version 0.20 to 100 in 0.22.\", FutureWarning)\n"
          ],
          "name": "stderr"
        },
        {
          "output_type": "stream",
          "text": [
            "RMSE_best n_estimators = 100\n",
            "RMSE_best max_depth = 100\n",
            "RMSE_best min_samples_split = 10.0\n",
            "RMSE_best rmse = 105349.8688\n",
            "RMSE_best mape = 0.2001\n",
            "______________________________________\n",
            "MAPE_best n_estimators = 500\n",
            "MAPE_best max_depth = 100\n",
            "MAPE_best min_samples_split = 10.0\n",
            "MAPE_best rmse = 106277.3284\n",
            "MAPE_best mape = 0.1998\n"
          ],
          "name": "stdout"
        }
      ]
    },
    {
      "metadata": {
        "id": "ex3ZOeia2lwB",
        "colab_type": "text"
      },
      "cell_type": "markdown",
      "source": [
        "###Results: Compared to the model with default parameters. The models with the lowest RMSE/MAPE are improved in predicting unseen data. \n",
        "* The model with the lowest RSME is the model with n_estimators=100, max_depth=100, min_samples_split=10. It has RSME=105350 and MAPE=20.01%. \n",
        "* The model with the lowest MAPE is the model with n_estimators=500, max_depth=100, min_samples_split=10. It has RSME=106277 and MAPE=19.98%."
      ]
    },
    {
      "metadata": {
        "id": "Vzs06lWJ3vR6",
        "colab_type": "text"
      },
      "cell_type": "markdown",
      "source": [
        "### To conclude the analysis on Random Forest regression models, the feature importance of the best models will be shown."
      ]
    },
    {
      "metadata": {
        "id": "-rJbpdFP36K5",
        "colab_type": "text"
      },
      "cell_type": "markdown",
      "source": [
        "#### First, we will see the top ten features in the RMSE_best model( n_estimators=100, max_depth=100, min_samples_split=10, RMSE=105350, MAPE=20.01%). \n",
        "* The top ten features in the RMSE_best model from the most important to the least important are: 1.CurrentBuildingValue, 2.CurrentLandValue, 3.TotalGrossArea, 4.FinishedArea, 5.NumofUnits, 6.CurrentAcres, 7.NumofRooms, 8.PropertyCenterPoint_x, 9.PropertyCenterPoint_y, 10.Depreciation."
      ]
    },
    {
      "metadata": {
        "id": "2K_MZZKc4jnB",
        "colab_type": "code",
        "colab": {
          "base_uri": "https://localhost:8080/",
          "height": 85
        },
        "outputId": "b03b6c2f-098a-452d-d695-65994595301e"
      },
      "cell_type": "code",
      "source": [
        "RMSEbest_reg = RandomForestRegressor(n_estimators=100,max_depth=100,min_samples_split=10,random_state=0)\n",
        "RMSEbest_reg.fit(X_train, y_train)\n",
        "\n",
        "\n",
        "RMSEbest_feature_importance = RMSEbest_reg.feature_importances_\n",
        "# make importances relative to max importance\n",
        "RMSEbest_feature_importance = 100.0 * (RMSEbest_feature_importance / RMSEbest_feature_importance.max())\n",
        "sorted_idx = np.argsort(RMSEbest_feature_importance)[-10:]\n",
        "print(X.columns[sorted_idx])"
      ],
      "execution_count": 30,
      "outputs": [
        {
          "output_type": "stream",
          "text": [
            "Index(['Depreciation', 'PropertyCenterPoint_y', 'PropertyCenterPoint_x',\n",
            "       'NumofRooms', 'CurrentAcres', 'NumofUnits', 'FinishedArea',\n",
            "       'TotalGrossArea', 'CurrentLandValue', 'CurrentBuildingValue'],\n",
            "      dtype='object')\n"
          ],
          "name": "stdout"
        }
      ]
    },
    {
      "metadata": {
        "id": "WWrZKPvq5meO",
        "colab_type": "code",
        "colab": {
          "base_uri": "https://localhost:8080/",
          "height": 376
        },
        "outputId": "b54ad4f2-c6f0-44ba-ea52-774b185f26a1"
      },
      "cell_type": "code",
      "source": [
        "import matplotlib.pyplot as plt\n",
        "pos = np.arange(sorted_idx.shape[0]) + .5\n",
        "plt.barh(pos, RMSEbest_feature_importance[sorted_idx], align='center')\n",
        "plt.yticks(pos, X.columns[sorted_idx])\n",
        "plt.xlabel('Relative Importance')\n",
        "plt.title('Top 10 Variable Importance in RMSE_best Model')\n",
        "plt.show()"
      ],
      "execution_count": 31,
      "outputs": [
        {
          "output_type": "display_data",
          "data": {
            "image/png": "[encoded data removed]",
            "text/plain": [
              "<Figure size 576x396 with 1 Axes>"
            ]
          },
          "metadata": {
            "tags": []
          }
        }
      ]
    },
    {
      "metadata": {
        "id": "DATieNdC5364",
        "colab_type": "text"
      },
      "cell_type": "markdown",
      "source": [
        "#### Second, we will see the top ten features in the MAPE_best model(n_estimators=500, max_depth=100, min_samples_split=10, RMSE=106277, MAPE=19.98%). \n",
        "* The top ten features in the RMSE_best model from the most important to the least important are: 1.CurrentBuildingValue, 2.CurrentLandValue, 3.TotalGrossArea, 4.FinishedArea, 5.NumofUnits, 6.CurrentAcres, 7.NumofRooms,  8.PropertyCenterPoint_x, 9.Depreciation, 10.PropertyCenterPoint_y. "
      ]
    },
    {
      "metadata": {
        "id": "n1T9aSoh6Wv6",
        "colab_type": "code",
        "colab": {
          "base_uri": "https://localhost:8080/",
          "height": 85
        },
        "outputId": "7a061f6b-a190-49e0-e8e9-e8c21fd61923"
      },
      "cell_type": "code",
      "source": [
        "MAPEbest_reg = RandomForestRegressor(n_estimators=500,max_depth=100,min_samples_split=10,random_state=0)\n",
        "MAPEbest_reg.fit(X_train, y_train)\n",
        "\n",
        "\n",
        "MAPEbest_feature_importance = MAPEbest_reg.feature_importances_\n",
        "# make importances relative to max importance\n",
        "MAPEbest_feature_importance = 100.0 * (MAPEbest_feature_importance / MAPEbest_feature_importance.max())\n",
        "sorted_idx = np.argsort(MAPEbest_feature_importance)[-10:]\n",
        "print(X.columns[sorted_idx])"
      ],
      "execution_count": 33,
      "outputs": [
        {
          "output_type": "stream",
          "text": [
            "Index(['PropertyCenterPoint_y', 'Depreciation', 'PropertyCenterPoint_x',\n",
            "       'NumofRooms', 'CurrentAcres', 'NumofUnits', 'FinishedArea',\n",
            "       'TotalGrossArea', 'CurrentLandValue', 'CurrentBuildingValue'],\n",
            "      dtype='object')\n"
          ],
          "name": "stdout"
        }
      ]
    },
    {
      "metadata": {
        "id": "Q-dkyLjR60lB",
        "colab_type": "code",
        "colab": {
          "base_uri": "https://localhost:8080/",
          "height": 376
        },
        "outputId": "42431429-566f-4097-a080-68403c345ee9"
      },
      "cell_type": "code",
      "source": [
        "import matplotlib.pyplot as plt\n",
        "pos = np.arange(sorted_idx.shape[0]) + .5\n",
        "plt.barh(pos, MAPEbest_feature_importance[sorted_idx], align='center')\n",
        "plt.yticks(pos, X.columns[sorted_idx])\n",
        "plt.xlabel('Relative Importance')\n",
        "plt.title('Top 10 Variable Importance in MAPE_best Model')\n",
        "plt.show()"
      ],
      "execution_count": 34,
      "outputs": [
        {
          "output_type": "display_data",
          "data": {
            "image/png": "[encoded data removed]",
            "text/plain": [
              "<Figure size 576x396 with 1 Axes>"
            ]
          },
          "metadata": {
            "tags": []
          }
        }
      ]
    },
    {
      "metadata": {
        "id": "tIde8PVC8QCY",
        "colab_type": "text"
      },
      "cell_type": "markdown",
      "source": [
        "### Conlusions\n",
        "* The estimation of SalePrice of the XGBoosting Regression can achieve an RSME about $105000 and an MAPE about 20%.Compared to Boosting Algorithms, the Random Forest Regression models we have found are not doing better jobs in reducing RSME and MAPE. \n",
        "* The top 5 features in our tuned Random Forest Regression models are CurrentBuildingValue, CurrentLandValue, TotalGrossArea, FinishedArea and NumofUnits. They are dominant over other features.\n",
        "* The top ten features for XGBoosting are similar to their counterpart in the Boosting Algorithms. "
      ]
    },
    {
      "metadata": {
        "id": "dvKPaPjf9xYQ",
        "colab_type": "text"
      },
      "cell_type": "markdown",
      "source": [
        "Finally, we look at the results given by a linear regression model. It serves as a reference point on how tree-based models improve estimation accuracies."
      ]
    },
    {
      "metadata": {
        "id": "YAbj-zmc-5eQ",
        "colab_type": "text"
      },
      "cell_type": "markdown",
      "source": [
        "## Linear Regression"
      ]
    },
    {
      "metadata": {
        "id": "dEq6FE09E9ot",
        "colab_type": "text"
      },
      "cell_type": "markdown",
      "source": [
        "#### First, we apply the linear regression model with default setting to the scaled training and test sets . We see that both RMSE and MAPE are incredibly huge. \n",
        "* This is due to the math of linear regressions. Scaling the features to be in range [0,1] makes the intercept term dominant, resulting in a poorly-fit linear model. We do not need to do scaling in linear regressions. The scaling is done automatically when computing the coeffiecients of the variables(features)."
      ]
    },
    {
      "metadata": {
        "id": "PjjHRS98_Atn",
        "colab_type": "code",
        "colab": {
          "base_uri": "https://localhost:8080/",
          "height": 51
        },
        "outputId": "fe57a3ad-2c3c-4694-bddf-24f628097ba3"
      },
      "cell_type": "code",
      "source": [
        "from sklearn.linear_model import LinearRegression\n",
        "from sklearn.metrics import mean_squared_error\n",
        "linreg = LinearRegression()\n",
        "linreg.fit(X_train, y_train)\n",
        "rmse = np.sqrt(mean_squared_error(y_test, linreg.predict(X_test)))\n",
        "print(\"RMSE: %.4f\" % rmse)\n",
        "print(\"MAPE: %.4f\" % np.mean(np.abs(linreg.predict(X_test)-y_test)/y_test))"
      ],
      "execution_count": 55,
      "outputs": [
        {
          "output_type": "stream",
          "text": [
            "RMSE: 3244452974982368.5000\n",
            "MAPE: 460635710.3733\n"
          ],
          "name": "stdout"
        }
      ]
    },
    {
      "metadata": {
        "id": "czAAS3iQHCAw",
        "colab_type": "text"
      },
      "cell_type": "markdown",
      "source": [
        "#### Remove the scaling, the linear regression improves a lot. But compared to the results in tree-based algotithms, the linear regression model is less accurate in terms of both RSME and MAPE."
      ]
    },
    {
      "metadata": {
        "id": "U6MOFZKsCvHE",
        "colab_type": "code",
        "colab": {
          "base_uri": "https://localhost:8080/",
          "height": 68
        },
        "outputId": "742325f2-4176-4c8e-fdc6-e832661f4d58"
      },
      "cell_type": "code",
      "source": [
        "X = df_feature.drop(columns=['SalePrice'])\n",
        "y = df_feature.SalePrice\n",
        "from sklearn.model_selection import train_test_split\n",
        "X_train, X_test, y_train, y_test = train_test_split(X, y, test_size=0.2, random_state=0)\n",
        "###Note that we did not apply Standard Scaler here.\n",
        "from sklearn.linear_model import LinearRegression\n",
        "from sklearn.metrics import mean_squared_error\n",
        "linreg = LinearRegression()\n",
        "linreg.fit(X_train, y_train)\n",
        "rmse = mean_squared_error(y_test, linreg.predict(X_test))\n",
        "print(\"RMSE: %.4f\" % mse)\n",
        "print(\"MAPE: %.4f\" % np.mean(np.abs(reg.predict(X_test)-y_test)/y_test))"
      ],
      "execution_count": 60,
      "outputs": [
        {
          "output_type": "stream",
          "text": [
            "MSE: 13545556420.7914\n",
            "Square of MSE: 116385.3789\n",
            "Average Percentage of Abosulute Error: 0.2332\n"
          ],
          "name": "stdout"
        }
      ]
    },
    {
      "metadata": {
        "id": "j0E1Gsv7H5xk",
        "colab_type": "text"
      },
      "cell_type": "markdown",
      "source": [
        "## Final Remarks\n",
        "* 1.With the author's best effort, the model with the least RMSE is achieved by XGBoosting Regression, which gives an RMSE of $97922 and an MAPE of 20.54%. \n",
        "\n",
        "* 2.With the author's best effort, the model with the least MAPE is achieved by the classical Gradient Boosting Regression, which gives an RMSE of $99671 and an MAPE of 19.51%.\n",
        "\n",
        "* 3.Based on what we have found so far, Boosting seems to beat Bagging in terms of accurate estimation of Sale Prices.\n",
        "\n",
        "* 4.For practical use, the author would recommend clients to use the least MAPE model given by Gradient Boosting Regression(See 2) based on the finding that for most models the MAPE rarely gets below 20% and the fact that this model also has low RMSE.\n",
        "\n",
        "* 5.Top features to look for in transaction of a housing properties are: CurrentBuildingValue, CurrentLandValue, FinishedArea, TotalGrossArea, CurrentAcres, YearBlt, Depreciation, Location(Latitude&Longitude), Grade, LandUse_IsMoblieHome."
      ]
    }
  ]
}