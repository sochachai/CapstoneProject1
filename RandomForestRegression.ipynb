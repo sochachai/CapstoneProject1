{
 "cells": [
  {
   "cell_type": "markdown",
   "metadata": {},
   "source": [
    "# Random Forest Regression Model"
   ]
  },
  {
   "cell_type": "code",
   "execution_count": 1,
   "metadata": {},
   "outputs": [],
   "source": [
    "import pandas as pd\n",
    "import numpy as np"
   ]
  },
  {
   "cell_type": "code",
   "execution_count": 2,
   "metadata": {},
   "outputs": [
    {
     "data": {
      "text/html": [
       "<div>\n",
       "<style scoped>\n",
       "    .dataframe tbody tr th:only-of-type {\n",
       "        vertical-align: middle;\n",
       "    }\n",
       "\n",
       "    .dataframe tbody tr th {\n",
       "        vertical-align: top;\n",
       "    }\n",
       "\n",
       "    .dataframe thead th {\n",
       "        text-align: right;\n",
       "    }\n",
       "</style>\n",
       "<table border=\"1\" class=\"dataframe\">\n",
       "  <thead>\n",
       "    <tr style=\"text-align: right;\">\n",
       "      <th></th>\n",
       "      <th>CurrentAcres</th>\n",
       "      <th>TotalGrossArea</th>\n",
       "      <th>FinishedArea</th>\n",
       "      <th>CurrentLandValue</th>\n",
       "      <th>CurrentYardItemsValue</th>\n",
       "      <th>CurrentBuildingValue</th>\n",
       "      <th>Grade</th>\n",
       "      <th>YearBlt</th>\n",
       "      <th>SalePrice</th>\n",
       "      <th>NumofRooms</th>\n",
       "      <th>...</th>\n",
       "      <th>HeatType_188</th>\n",
       "      <th>HeatType_281</th>\n",
       "      <th>HeatType_739</th>\n",
       "      <th>HeatType_3893</th>\n",
       "      <th>HeatType_4255</th>\n",
       "      <th>Foundation_130</th>\n",
       "      <th>Foundation_1219</th>\n",
       "      <th>Foundation_2322</th>\n",
       "      <th>Foundation_2628</th>\n",
       "      <th>Foundation_3199</th>\n",
       "    </tr>\n",
       "  </thead>\n",
       "  <tbody>\n",
       "    <tr>\n",
       "      <th>0</th>\n",
       "      <td>0.05597</td>\n",
       "      <td>1760</td>\n",
       "      <td>840.00000</td>\n",
       "      <td>121600</td>\n",
       "      <td>0</td>\n",
       "      <td>30900.0</td>\n",
       "      <td>5</td>\n",
       "      <td>1912</td>\n",
       "      <td>158000</td>\n",
       "      <td>5</td>\n",
       "      <td>...</td>\n",
       "      <td>0</td>\n",
       "      <td>0</td>\n",
       "      <td>0</td>\n",
       "      <td>1</td>\n",
       "      <td>0</td>\n",
       "      <td>0</td>\n",
       "      <td>0</td>\n",
       "      <td>0</td>\n",
       "      <td>1</td>\n",
       "      <td>0</td>\n",
       "    </tr>\n",
       "    <tr>\n",
       "      <th>1</th>\n",
       "      <td>0.08242</td>\n",
       "      <td>2676</td>\n",
       "      <td>1436.00000</td>\n",
       "      <td>94400</td>\n",
       "      <td>700</td>\n",
       "      <td>146800.0</td>\n",
       "      <td>7</td>\n",
       "      <td>1899</td>\n",
       "      <td>231750</td>\n",
       "      <td>7</td>\n",
       "      <td>...</td>\n",
       "      <td>0</td>\n",
       "      <td>0</td>\n",
       "      <td>0</td>\n",
       "      <td>0</td>\n",
       "      <td>1</td>\n",
       "      <td>0</td>\n",
       "      <td>0</td>\n",
       "      <td>0</td>\n",
       "      <td>1</td>\n",
       "      <td>0</td>\n",
       "    </tr>\n",
       "    <tr>\n",
       "      <th>2</th>\n",
       "      <td>0.00000</td>\n",
       "      <td>2184</td>\n",
       "      <td>1572.80005</td>\n",
       "      <td>0</td>\n",
       "      <td>0</td>\n",
       "      <td>268000.0</td>\n",
       "      <td>10</td>\n",
       "      <td>1986</td>\n",
       "      <td>381500</td>\n",
       "      <td>6</td>\n",
       "      <td>...</td>\n",
       "      <td>0</td>\n",
       "      <td>0</td>\n",
       "      <td>0</td>\n",
       "      <td>0</td>\n",
       "      <td>1</td>\n",
       "      <td>0</td>\n",
       "      <td>1</td>\n",
       "      <td>0</td>\n",
       "      <td>0</td>\n",
       "      <td>0</td>\n",
       "    </tr>\n",
       "    <tr>\n",
       "      <th>3</th>\n",
       "      <td>0.09832</td>\n",
       "      <td>3699</td>\n",
       "      <td>2087.00000</td>\n",
       "      <td>130100</td>\n",
       "      <td>0</td>\n",
       "      <td>210700.0</td>\n",
       "      <td>8</td>\n",
       "      <td>1910</td>\n",
       "      <td>430000</td>\n",
       "      <td>8</td>\n",
       "      <td>...</td>\n",
       "      <td>0</td>\n",
       "      <td>0</td>\n",
       "      <td>0</td>\n",
       "      <td>1</td>\n",
       "      <td>0</td>\n",
       "      <td>0</td>\n",
       "      <td>0</td>\n",
       "      <td>0</td>\n",
       "      <td>1</td>\n",
       "      <td>0</td>\n",
       "    </tr>\n",
       "    <tr>\n",
       "      <th>4</th>\n",
       "      <td>0.70154</td>\n",
       "      <td>62852</td>\n",
       "      <td>37977.00000</td>\n",
       "      <td>547700</td>\n",
       "      <td>51800</td>\n",
       "      <td>1306100.0</td>\n",
       "      <td>9</td>\n",
       "      <td>2013</td>\n",
       "      <td>505683</td>\n",
       "      <td>103</td>\n",
       "      <td>...</td>\n",
       "      <td>0</td>\n",
       "      <td>0</td>\n",
       "      <td>0</td>\n",
       "      <td>0</td>\n",
       "      <td>1</td>\n",
       "      <td>0</td>\n",
       "      <td>1</td>\n",
       "      <td>0</td>\n",
       "      <td>0</td>\n",
       "      <td>0</td>\n",
       "    </tr>\n",
       "  </tbody>\n",
       "</table>\n",
       "<p>5 rows × 76 columns</p>\n",
       "</div>"
      ],
      "text/plain": [
       "   CurrentAcres  TotalGrossArea  FinishedArea  CurrentLandValue  \\\n",
       "0       0.05597            1760     840.00000            121600   \n",
       "1       0.08242            2676    1436.00000             94400   \n",
       "2       0.00000            2184    1572.80005                 0   \n",
       "3       0.09832            3699    2087.00000            130100   \n",
       "4       0.70154           62852   37977.00000            547700   \n",
       "\n",
       "   CurrentYardItemsValue  CurrentBuildingValue  Grade  YearBlt  SalePrice  \\\n",
       "0                      0               30900.0      5     1912     158000   \n",
       "1                    700              146800.0      7     1899     231750   \n",
       "2                      0              268000.0     10     1986     381500   \n",
       "3                      0              210700.0      8     1910     430000   \n",
       "4                  51800             1306100.0      9     2013     505683   \n",
       "\n",
       "   NumofRooms       ...         HeatType_188  HeatType_281  HeatType_739  \\\n",
       "0           5       ...                    0             0             0   \n",
       "1           7       ...                    0             0             0   \n",
       "2           6       ...                    0             0             0   \n",
       "3           8       ...                    0             0             0   \n",
       "4         103       ...                    0             0             0   \n",
       "\n",
       "   HeatType_3893  HeatType_4255  Foundation_130  Foundation_1219  \\\n",
       "0              1              0               0                0   \n",
       "1              0              1               0                0   \n",
       "2              0              1               0                1   \n",
       "3              1              0               0                0   \n",
       "4              0              1               0                1   \n",
       "\n",
       "   Foundation_2322  Foundation_2628  Foundation_3199  \n",
       "0                0                1                0  \n",
       "1                0                1                0  \n",
       "2                0                0                0  \n",
       "3                0                1                0  \n",
       "4                0                0                0  \n",
       "\n",
       "[5 rows x 76 columns]"
      ]
     },
     "execution_count": 2,
     "metadata": {},
     "output_type": "execute_result"
    }
   ],
   "source": [
    "df_feature = pd.read_csv('Ready_for_machine_learning_2019_1_23.csv')\n",
    "df_feature.head()"
   ]
  },
  {
   "cell_type": "markdown",
   "metadata": {},
   "source": [
    "#### Set the target and variables."
   ]
  },
  {
   "cell_type": "code",
   "execution_count": 3,
   "metadata": {},
   "outputs": [],
   "source": [
    "X = df_feature.drop(columns=['SalePrice'])\n",
    "y = df_feature.SalePrice"
   ]
  },
  {
   "cell_type": "markdown",
   "metadata": {},
   "source": [
    "#### Generate Train and Test sets, and perform scaling."
   ]
  },
  {
   "cell_type": "code",
   "execution_count": 4,
   "metadata": {},
   "outputs": [
    {
     "name": "stderr",
     "output_type": "stream",
     "text": [
      "C:\\Anaconda\\envs\\snowflakes\\lib\\site-packages\\sklearn\\preprocessing\\data.py:625: DataConversionWarning: Data with input dtype int64, float64 were all converted to float64 by StandardScaler.\n",
      "  return self.partial_fit(X, y)\n",
      "C:\\Anaconda\\envs\\snowflakes\\lib\\site-packages\\sklearn\\base.py:462: DataConversionWarning: Data with input dtype int64, float64 were all converted to float64 by StandardScaler.\n",
      "  return self.fit(X, **fit_params).transform(X)\n",
      "C:\\Anaconda\\envs\\snowflakes\\lib\\site-packages\\ipykernel_launcher.py:6: DataConversionWarning: Data with input dtype int64, float64 were all converted to float64 by StandardScaler.\n",
      "  \n"
     ]
    }
   ],
   "source": [
    "from sklearn.model_selection import train_test_split\n",
    "X_train, X_test, y_train, y_test = train_test_split(X, y, test_size=0.2, random_state=0)\n",
    "from sklearn.preprocessing import StandardScaler\n",
    "scaler = StandardScaler()\n",
    "X_train = scaler.fit_transform(X_train)\n",
    "X_test = scaler.transform(X_test)"
   ]
  },
  {
   "cell_type": "markdown",
   "metadata": {},
   "source": [
    "### Random Forest Regression"
   ]
  },
  {
   "cell_type": "code",
   "execution_count": 5,
   "metadata": {},
   "outputs": [
    {
     "name": "stderr",
     "output_type": "stream",
     "text": [
      "C:\\Anaconda\\envs\\snowflakes\\lib\\site-packages\\sklearn\\ensemble\\forest.py:246: FutureWarning: The default value of n_estimators will change from 10 in version 0.20 to 100 in 0.22.\n",
      "  \"10 in version 0.20 to 100 in 0.22.\", FutureWarning)\n"
     ]
    },
    {
     "name": "stdout",
     "output_type": "stream",
     "text": [
      "MSE: 12706962282.7190\n",
      "Square of MSE: 112725.1626\n",
      "Average Percentage of Abosulute Error: 0.2123\n"
     ]
    }
   ],
   "source": [
    "from sklearn.metrics import mean_squared_error\n",
    "from sklearn.ensemble import RandomForestRegressor\n",
    "reg = RandomForestRegressor(random_state=0)\n",
    "reg.fit(X_train, y_train)\n",
    "mse = mean_squared_error(y_test, reg.predict(X_test))\n",
    "print(\"MSE: %.4f\" % mse)\n",
    "print(\"Square of MSE: %.4f\" % np.sqrt(mse))\n",
    "print(\"Average Percentage of Abosulute Error: %.4f\" % np.mean(np.abs(reg.predict(X_test)-y_test)/y_test))"
   ]
  },
  {
   "cell_type": "markdown",
   "metadata": {},
   "source": [
    "#### Plot feature importance"
   ]
  },
  {
   "cell_type": "code",
   "execution_count": 23,
   "metadata": {},
   "outputs": [
    {
     "data": {
      "text/plain": [
       "<Figure size 640x480 with 1 Axes>"
      ]
     },
     "metadata": {},
     "output_type": "display_data"
    }
   ],
   "source": [
    "import matplotlib.pyplot as plt\n",
    "feature_importance = reg.feature_importances_\n",
    "# make importances relative to max importance\n",
    "feature_importance = 100.0 * (feature_importance / feature_importance.max())\n",
    "sorted_idx = np.argsort(feature_importance)\n",
    "pos = np.arange(sorted_idx.shape[0]) + .5\n",
    "plt.barh(pos, feature_importance[sorted_idx], align='center')\n",
    "plt.yticks(pos, X.columns[sorted_idx])\n",
    "plt.xlabel('Relative Importance')\n",
    "plt.title('Variable Importance')\n",
    "plt.show()"
   ]
  },
  {
   "cell_type": "markdown",
   "metadata": {},
   "source": [
    "#### Unable to read variable names. The following list the feature names from the least important to the most important. "
   ]
  },
  {
   "cell_type": "code",
   "execution_count": 24,
   "metadata": {},
   "outputs": [
    {
     "data": {
      "text/plain": [
       "Index(['BuildingType_30', 'BuildingType_8', 'LandUse_8', 'BuildingType_9',\n",
       "       'BuildingType_12', 'BuildingType_31', 'BuildingType_44',\n",
       "       'BuildingType_11', 'BuildingType_24', 'BuildingType_103',\n",
       "       'Foundation_130', 'LandUse_43', 'HeatType_58', 'BuildingType_14',\n",
       "       'BuildingType_46', 'BuildingType_110', 'BuildingType_219',\n",
       "       'BuildingType_108', 'BuildingType_60', 'BuildingType_22', 'HeatFuel_64',\n",
       "       'BuildingType_81', 'BuildingType_101', 'BuildingType_338',\n",
       "       'BuildingType_87', 'BuildingType_39', 'LandUse_45', 'BuildingType_83',\n",
       "       'HeatFuel_281', 'BuildingType_162', 'HeatType_281', 'LandUse_239',\n",
       "       'BuildingType_482', 'BuildingType_144', 'BuildingType_147',\n",
       "       'LandUse_2150', 'BuildingType_589', 'HeatType_50', 'BuildingType_111',\n",
       "       'Foundation_2628', 'HeatFuel_8187', 'LandUse_367', 'LandUse_5176',\n",
       "       'Foundation_3199', 'HeatFuel_1039', 'LandUse_1041', 'BuildingType_291',\n",
       "       'BuildingType_1193', 'HeatType_54', 'BuildingType_1389',\n",
       "       'BuildingType_2168', 'HeatType_739', 'BuildingType_1028', 'LandUse_369',\n",
       "       'Foundation_1219', 'LandUse_285', 'HeatType_4255', 'HeatType_188',\n",
       "       'Foundation_2322', 'BuildingType_298', 'HeatType_3893',\n",
       "       'CurrentYardItemsValue', 'YearBlt', 'LandUse_117', 'Grade',\n",
       "       'Depreciation', 'PropertyCenterPoint_y', 'PropertyCenterPoint_x',\n",
       "       'NumofRooms', 'CurrentAcres', 'NumofUnits', 'FinishedArea',\n",
       "       'CurrentLandValue', 'TotalGrossArea', 'CurrentBuildingValue'],\n",
       "      dtype='object')"
      ]
     },
     "execution_count": 24,
     "metadata": {},
     "output_type": "execute_result"
    }
   ],
   "source": [
    "X.columns[sorted_idx]"
   ]
  },
  {
   "cell_type": "markdown",
   "metadata": {},
   "source": [
    "####  The top 7 of feature importance are 'CurrentBuildingValue', 'TotalGrossArea', 'CurrentLandValue', 'FinishedArea', 'NumofUnits',  'CurrentAcres', and 'NumofRooms'.        "
   ]
  },
  {
   "cell_type": "markdown",
   "metadata": {},
   "source": [
    "#### To visualize the feature importance, a simplified model is required."
   ]
  },
  {
   "cell_type": "markdown",
   "metadata": {},
   "source": [
    "#### Reset the target y and the variable table X by taking the important features."
   ]
  },
  {
   "cell_type": "code",
   "execution_count": 25,
   "metadata": {},
   "outputs": [
    {
     "name": "stdout",
     "output_type": "stream",
     "text": [
      "MSE: 13010567205.5662\n",
      "Square of MSE: 114063.8734\n",
      "Average Percentage of Abosulute Error: 0.2137\n"
     ]
    }
   ],
   "source": [
    "X2=df_feature[['Foundation_1219', 'LandUse_285', 'HeatType_4255', 'HeatType_188',\n",
    "       'Foundation_2322', 'BuildingType_298', 'HeatType_3893',\n",
    "       'CurrentYardItemsValue', 'YearBlt', 'LandUse_117', 'Grade',\n",
    "       'Depreciation', 'PropertyCenterPoint_y', 'PropertyCenterPoint_x',\n",
    "       'NumofRooms', 'CurrentAcres', 'NumofUnits', 'FinishedArea',\n",
    "       'CurrentLandValue', 'TotalGrossArea', 'CurrentBuildingValue']]\n",
    "y2=df_feature.SalePrice\n",
    "\n",
    "from sklearn.model_selection import train_test_split\n",
    "X2_train, X2_test, y2_train, y2_test = train_test_split(X2, y2, test_size=0.2, random_state=0)\n",
    "from sklearn.preprocessing import StandardScaler\n",
    "scaler = StandardScaler()\n",
    "X2_train = scaler.fit_transform(X2_train)\n",
    "X2_test = scaler.transform(X2_test)\n",
    "\n",
    "from sklearn.metrics import mean_squared_error\n",
    "from sklearn.ensemble import RandomForestRegressor\n",
    "reg = RandomForestRegressor(random_state=0)\n",
    "reg.fit(X2_train, y2_train)\n",
    "mse = mean_squared_error(y2_test, reg.predict(X2_test))\n",
    "print(\"MSE: %.4f\" % mse)\n",
    "print(\"Square of MSE: %.4f\" % np.sqrt(mse))\n",
    "print(\"Average Percentage of Abosulute Error: %.4f\" % np.mean(np.abs(reg.predict(X2_test)-y2_test)/y2_test))"
   ]
  },
  {
   "cell_type": "markdown",
   "metadata": {},
   "source": [
    "#### Plot feature importance of the simplified model."
   ]
  },
  {
   "cell_type": "code",
   "execution_count": 26,
   "metadata": {},
   "outputs": [
    {
     "data": {
      "image/png": "[encoded data removed]",
      "text/plain": [
       "<Figure size 432x288 with 1 Axes>"
      ]
     },
     "metadata": {},
     "output_type": "display_data"
    }
   ],
   "source": [
    "import matplotlib.pyplot as plt\n",
    "feature_importance = reg.feature_importances_\n",
    "# make importances relative to max importance\n",
    "feature_importance = 100.0 * (feature_importance / feature_importance.max())\n",
    "sorted_idx = np.argsort(feature_importance)\n",
    "pos = np.arange(sorted_idx.shape[0]) + .5\n",
    "plt.barh(pos, feature_importance[sorted_idx], align='center')\n",
    "plt.yticks(pos, X2.columns[sorted_idx])\n",
    "plt.xlabel('Relative Importance')\n",
    "plt.title('Variable Importance')\n",
    "plt.show()"
   ]
  },
  {
   "cell_type": "markdown",
   "metadata": {},
   "source": [
    " #### Note that the order of the top 7 are different from the full model. But the top 7 are still the top 7."
   ]
  },
  {
   "cell_type": "markdown",
   "metadata": {},
   "source": [
    "#### Search for the best model by testing different n_estimators. MSE is more highly valued than the average percentage abosolute deviation."
   ]
  },
  {
   "cell_type": "code",
   "execution_count": 6,
   "metadata": {},
   "outputs": [
    {
     "name": "stderr",
     "output_type": "stream",
     "text": [
      "C:\\Anaconda\\envs\\snowflakes\\lib\\site-packages\\sklearn\\ensemble\\forest.py:246: FutureWarning: The default value of n_estimators will change from 10 in version 0.20 to 100 in 0.22.\n",
      "  \"10 in version 0.20 to 100 in 0.22.\", FutureWarning)\n"
     ]
    },
    {
     "name": "stdout",
     "output_type": "stream",
     "text": [
      "n_est = 1\n",
      "mse = 17645046011.9628\n",
      "ape = 0.2556\n",
      "__________________________________\n",
      "n_est = 2\n",
      "mse = 15065367839.8196\n",
      "ape = 0.2378\n",
      "__________________________________\n",
      "n_est = 3\n",
      "mse = 14215022965.7328\n",
      "ape = 0.2264\n",
      "__________________________________\n",
      "n_est = 4\n",
      "mse = 14576853415.5925\n",
      "ape = 0.2213\n",
      "__________________________________\n",
      "n_est = 5\n",
      "mse = 14438362899.6528\n",
      "ape = 0.2192\n",
      "__________________________________\n",
      "n_est = 6\n",
      "mse = 13475582816.4592\n",
      "ape = 0.2168\n",
      "__________________________________\n",
      "n_est = 7\n",
      "mse = 13398533204.4487\n",
      "ape = 0.2152\n",
      "__________________________________\n",
      "n_est = 8\n",
      "mse = 13391764550.4711\n",
      "ape = 0.2132\n",
      "__________________________________\n",
      "n_est = 9\n",
      "mse = 13048781920.6051\n",
      "ape = 0.2137\n",
      "__________________________________\n",
      "n_est = 10\n",
      "mse = 12706962282.7190\n",
      "ape = 0.2123\n",
      "__________________________________\n",
      "n_est = 11\n",
      "mse = 12603886654.8833\n",
      "ape = 0.2108\n",
      "__________________________________\n",
      "n_est = 12\n",
      "mse = 12814851989.7514\n",
      "ape = 0.2100\n",
      "__________________________________\n",
      "n_est = 13\n",
      "mse = 12350181765.9459\n",
      "ape = 0.2097\n",
      "__________________________________\n",
      "n_est = 14\n",
      "mse = 11883422211.4791\n",
      "ape = 0.2073\n",
      "__________________________________\n",
      "n_est = 15\n",
      "mse = 12008686329.9552\n",
      "ape = 0.2081\n",
      "__________________________________\n",
      "n_est = 16\n",
      "mse = 11961867291.5287\n",
      "ape = 0.2079\n",
      "__________________________________\n",
      "n_est = 17\n",
      "mse = 11711245612.7004\n",
      "ape = 0.2078\n",
      "__________________________________\n",
      "n_est = 18\n",
      "mse = 11946577641.4924\n",
      "ape = 0.2075\n",
      "__________________________________\n",
      "n_est = 19\n",
      "mse = 11714839108.7627\n",
      "ape = 0.2074\n",
      "__________________________________\n",
      "n_est = 20\n",
      "mse = 11616667738.0384\n",
      "ape = 0.2073\n",
      "__________________________________\n",
      "n_est = 21\n",
      "mse = 11655893540.8370\n",
      "ape = 0.2071\n",
      "__________________________________\n",
      "n_est = 22\n",
      "mse = 11598074701.3255\n",
      "ape = 0.2070\n",
      "__________________________________\n",
      "n_est = 23\n",
      "mse = 11751773804.8176\n",
      "ape = 0.2069\n",
      "__________________________________\n",
      "n_est = 24\n",
      "mse = 11801978409.3759\n",
      "ape = 0.2061\n",
      "__________________________________\n",
      "n_est = 25\n",
      "mse = 11795882743.5083\n",
      "ape = 0.2060\n",
      "__________________________________\n",
      "n_est = 26\n",
      "mse = 11710619028.2275\n",
      "ape = 0.2059\n",
      "__________________________________\n",
      "n_est = 27\n",
      "mse = 11684233128.5464\n",
      "ape = 0.2059\n",
      "__________________________________\n",
      "n_est = 28\n",
      "mse = 11692208002.0548\n",
      "ape = 0.2056\n",
      "__________________________________\n",
      "n_est = 29\n",
      "mse = 11594253439.3728\n",
      "ape = 0.2053\n",
      "__________________________________\n",
      "n_est = 30\n",
      "mse = 11632816267.4044\n",
      "ape = 0.2047\n",
      "__________________________________\n",
      "n_est = 31\n",
      "mse = 11594352132.1489\n",
      "ape = 0.2044\n",
      "__________________________________\n",
      "n_est = 32\n",
      "mse = 11594593685.6872\n",
      "ape = 0.2041\n",
      "__________________________________\n",
      "n_est = 33\n",
      "mse = 11334335684.0768\n",
      "ape = 0.2037\n",
      "__________________________________\n",
      "n_est = 34\n",
      "mse = 11284566340.9465\n",
      "ape = 0.2040\n",
      "__________________________________\n",
      "n_est = 35\n",
      "mse = 11333469662.8404\n",
      "ape = 0.2042\n",
      "__________________________________\n",
      "n_est = 36\n",
      "mse = 11315368430.2821\n",
      "ape = 0.2038\n",
      "__________________________________\n",
      "n_est = 37\n",
      "mse = 11377847490.6383\n",
      "ape = 0.2038\n",
      "__________________________________\n",
      "n_est = 38\n",
      "mse = 11387544382.2905\n",
      "ape = 0.2035\n",
      "__________________________________\n",
      "n_est = 39\n",
      "mse = 11410216665.8310\n",
      "ape = 0.2033\n",
      "__________________________________\n",
      "n_est = 40\n",
      "mse = 11500213322.5233\n",
      "ape = 0.2034\n",
      "__________________________________\n",
      "n_est = 41\n",
      "mse = 11492698784.0887\n",
      "ape = 0.2030\n",
      "__________________________________\n",
      "n_est = 42\n",
      "mse = 11530839205.7429\n",
      "ape = 0.2031\n",
      "__________________________________\n",
      "n_est = 43\n",
      "mse = 11543611591.1988\n",
      "ape = 0.2026\n",
      "__________________________________\n",
      "n_est = 44\n",
      "mse = 11547241662.8129\n",
      "ape = 0.2024\n",
      "__________________________________\n",
      "n_est = 45\n",
      "mse = 11575055609.4542\n",
      "ape = 0.2026\n",
      "__________________________________\n",
      "n_est = 46\n",
      "mse = 11476065266.7855\n",
      "ape = 0.2027\n",
      "__________________________________\n",
      "n_est = 47\n",
      "mse = 11496010751.5321\n",
      "ape = 0.2030\n",
      "__________________________________\n",
      "n_est = 48\n",
      "mse = 11542007411.5575\n",
      "ape = 0.2029\n",
      "__________________________________\n",
      "n_est = 49\n",
      "mse = 11549221391.9345\n",
      "ape = 0.2030\n",
      "__________________________________\n",
      "best n_estimators = 34\n",
      "best mse = 11284566340.9465\n",
      "best ape = 0.2040\n"
     ]
    }
   ],
   "source": [
    "# Initial model \n",
    "reg0 = RandomForestRegressor(random_state=0)\n",
    "reg0.fit(X_train, y_train)\n",
    "mse0 = mean_squared_error(y_test, reg0.predict(X_test))\n",
    "ape0 = np.mean(np.abs(reg0.predict(X_test)-y_test)/y_test)\n",
    "\n",
    "# Initialize the best model and parameters\n",
    "bestreg = reg0\n",
    "bestmse = mse0\n",
    "best_n_est = 10 # default\n",
    "\n",
    " \n",
    "# Search for the best model(in terms of smallest mse)  \n",
    "N_est = np.arange(1,50,1)\n",
    "\n",
    "for n_est in N_est: \n",
    "    reg = RandomForestRegressor(n_estimators=n_est,random_state=0)\n",
    "    reg.fit(X_train, y_train)\n",
    "    mse = mean_squared_error(y_test, reg.predict(X_test))\n",
    "    ape = np.mean(np.abs(reg.predict(X_test)-y_test)/y_test)\n",
    "    print(\"n_est = %.0f\" % n_est)            \n",
    "    print(\"mse = %.4f\" % mse)\n",
    "    print(\"ape = %.4f\" % ape)\n",
    "    print(\"__________________________________\")\n",
    "    if mse<bestmse: \n",
    "        bestreg = reg\n",
    "        bestmse = mse\n",
    "        bestape = ape ## This might not be the smallest ape among all models but is the ape of the best model(in terms of smallest mse)\n",
    "        best_n_est = n_est              \n",
    "\n",
    "print(\"best n_estimators = %.0f\" % best_n_est)           \n",
    "print(\"best mse = %.4f\" % bestmse)\n",
    "print(\"best ape = %.4f\" % bestape)  ## This might not be the smallest ape among all models but is the ape of the best model(in terms of smallest mse)  "
   ]
  },
  {
   "cell_type": "markdown",
   "metadata": {},
   "source": [
    "#### The model with the smallest MSE is with n_estimators=34. The MSE is 11284566340.9465. The average percentage absolute error is 20.4%. "
   ]
  },
  {
   "cell_type": "code",
   "execution_count": null,
   "metadata": {},
   "outputs": [],
   "source": []
  }
 ],
 "metadata": {
  "kernelspec": {
   "display_name": "Python 3",
   "language": "python",
   "name": "python3"
  },
  "language_info": {
   "codemirror_mode": {
    "name": "ipython",
    "version": 3
   },
   "file_extension": ".py",
   "mimetype": "text/x-python",
   "name": "python",
   "nbconvert_exporter": "python",
   "pygments_lexer": "ipython3",
   "version": "3.6.6"
  }
 },
 "nbformat": 4,
 "nbformat_minor": 2
}
