{
 "cells": [
  {
   "cell_type": "markdown",
   "metadata": {},
   "source": [
    "# This is to summarize the feature importance results in the tree-based regression models."
   ]
  },
  {
   "cell_type": "markdown",
   "metadata": {},
   "source": [
    "## Models with different parameters and features might have different feature importance results. We will list the feature importances of the best models with GradientBoosting, RandomForest and XGB regression. Besides, the feature importance bar charts of simplified models will be visualized. "
   ]
  },
  {
   "cell_type": "code",
   "execution_count": 18,
   "metadata": {},
   "outputs": [],
   "source": [
    "import pandas as pd\n",
    "import numpy as np"
   ]
  },
  {
   "cell_type": "code",
   "execution_count": 19,
   "metadata": {},
   "outputs": [
    {
     "data": {
      "text/html": [
       "<div>\n",
       "<style scoped>\n",
       "    .dataframe tbody tr th:only-of-type {\n",
       "        vertical-align: middle;\n",
       "    }\n",
       "\n",
       "    .dataframe tbody tr th {\n",
       "        vertical-align: top;\n",
       "    }\n",
       "\n",
       "    .dataframe thead th {\n",
       "        text-align: right;\n",
       "    }\n",
       "</style>\n",
       "<table border=\"1\" class=\"dataframe\">\n",
       "  <thead>\n",
       "    <tr style=\"text-align: right;\">\n",
       "      <th></th>\n",
       "      <th>CurrentAcres</th>\n",
       "      <th>TotalGrossArea</th>\n",
       "      <th>FinishedArea</th>\n",
       "      <th>CurrentLandValue</th>\n",
       "      <th>CurrentYardItemsValue</th>\n",
       "      <th>CurrentBuildingValue</th>\n",
       "      <th>Grade</th>\n",
       "      <th>YearBlt</th>\n",
       "      <th>SalePrice</th>\n",
       "      <th>NumofRooms</th>\n",
       "      <th>...</th>\n",
       "      <th>HeatType_188</th>\n",
       "      <th>HeatType_281</th>\n",
       "      <th>HeatType_739</th>\n",
       "      <th>HeatType_3893</th>\n",
       "      <th>HeatType_4255</th>\n",
       "      <th>Foundation_130</th>\n",
       "      <th>Foundation_1219</th>\n",
       "      <th>Foundation_2322</th>\n",
       "      <th>Foundation_2628</th>\n",
       "      <th>Foundation_3199</th>\n",
       "    </tr>\n",
       "  </thead>\n",
       "  <tbody>\n",
       "    <tr>\n",
       "      <th>0</th>\n",
       "      <td>0.05597</td>\n",
       "      <td>1760</td>\n",
       "      <td>840.00000</td>\n",
       "      <td>121600</td>\n",
       "      <td>0</td>\n",
       "      <td>30900.0</td>\n",
       "      <td>5</td>\n",
       "      <td>1912</td>\n",
       "      <td>158000</td>\n",
       "      <td>5</td>\n",
       "      <td>...</td>\n",
       "      <td>0</td>\n",
       "      <td>0</td>\n",
       "      <td>0</td>\n",
       "      <td>1</td>\n",
       "      <td>0</td>\n",
       "      <td>0</td>\n",
       "      <td>0</td>\n",
       "      <td>0</td>\n",
       "      <td>1</td>\n",
       "      <td>0</td>\n",
       "    </tr>\n",
       "    <tr>\n",
       "      <th>1</th>\n",
       "      <td>0.08242</td>\n",
       "      <td>2676</td>\n",
       "      <td>1436.00000</td>\n",
       "      <td>94400</td>\n",
       "      <td>700</td>\n",
       "      <td>146800.0</td>\n",
       "      <td>7</td>\n",
       "      <td>1899</td>\n",
       "      <td>231750</td>\n",
       "      <td>7</td>\n",
       "      <td>...</td>\n",
       "      <td>0</td>\n",
       "      <td>0</td>\n",
       "      <td>0</td>\n",
       "      <td>0</td>\n",
       "      <td>1</td>\n",
       "      <td>0</td>\n",
       "      <td>0</td>\n",
       "      <td>0</td>\n",
       "      <td>1</td>\n",
       "      <td>0</td>\n",
       "    </tr>\n",
       "    <tr>\n",
       "      <th>2</th>\n",
       "      <td>0.00000</td>\n",
       "      <td>2184</td>\n",
       "      <td>1572.80005</td>\n",
       "      <td>0</td>\n",
       "      <td>0</td>\n",
       "      <td>268000.0</td>\n",
       "      <td>10</td>\n",
       "      <td>1986</td>\n",
       "      <td>381500</td>\n",
       "      <td>6</td>\n",
       "      <td>...</td>\n",
       "      <td>0</td>\n",
       "      <td>0</td>\n",
       "      <td>0</td>\n",
       "      <td>0</td>\n",
       "      <td>1</td>\n",
       "      <td>0</td>\n",
       "      <td>1</td>\n",
       "      <td>0</td>\n",
       "      <td>0</td>\n",
       "      <td>0</td>\n",
       "    </tr>\n",
       "    <tr>\n",
       "      <th>3</th>\n",
       "      <td>0.09832</td>\n",
       "      <td>3699</td>\n",
       "      <td>2087.00000</td>\n",
       "      <td>130100</td>\n",
       "      <td>0</td>\n",
       "      <td>210700.0</td>\n",
       "      <td>8</td>\n",
       "      <td>1910</td>\n",
       "      <td>430000</td>\n",
       "      <td>8</td>\n",
       "      <td>...</td>\n",
       "      <td>0</td>\n",
       "      <td>0</td>\n",
       "      <td>0</td>\n",
       "      <td>1</td>\n",
       "      <td>0</td>\n",
       "      <td>0</td>\n",
       "      <td>0</td>\n",
       "      <td>0</td>\n",
       "      <td>1</td>\n",
       "      <td>0</td>\n",
       "    </tr>\n",
       "    <tr>\n",
       "      <th>4</th>\n",
       "      <td>0.70154</td>\n",
       "      <td>62852</td>\n",
       "      <td>37977.00000</td>\n",
       "      <td>547700</td>\n",
       "      <td>51800</td>\n",
       "      <td>1306100.0</td>\n",
       "      <td>9</td>\n",
       "      <td>2013</td>\n",
       "      <td>505683</td>\n",
       "      <td>103</td>\n",
       "      <td>...</td>\n",
       "      <td>0</td>\n",
       "      <td>0</td>\n",
       "      <td>0</td>\n",
       "      <td>0</td>\n",
       "      <td>1</td>\n",
       "      <td>0</td>\n",
       "      <td>1</td>\n",
       "      <td>0</td>\n",
       "      <td>0</td>\n",
       "      <td>0</td>\n",
       "    </tr>\n",
       "  </tbody>\n",
       "</table>\n",
       "<p>5 rows × 76 columns</p>\n",
       "</div>"
      ],
      "text/plain": [
       "   CurrentAcres  TotalGrossArea  FinishedArea  CurrentLandValue  \\\n",
       "0       0.05597            1760     840.00000            121600   \n",
       "1       0.08242            2676    1436.00000             94400   \n",
       "2       0.00000            2184    1572.80005                 0   \n",
       "3       0.09832            3699    2087.00000            130100   \n",
       "4       0.70154           62852   37977.00000            547700   \n",
       "\n",
       "   CurrentYardItemsValue  CurrentBuildingValue  Grade  YearBlt  SalePrice  \\\n",
       "0                      0               30900.0      5     1912     158000   \n",
       "1                    700              146800.0      7     1899     231750   \n",
       "2                      0              268000.0     10     1986     381500   \n",
       "3                      0              210700.0      8     1910     430000   \n",
       "4                  51800             1306100.0      9     2013     505683   \n",
       "\n",
       "   NumofRooms       ...         HeatType_188  HeatType_281  HeatType_739  \\\n",
       "0           5       ...                    0             0             0   \n",
       "1           7       ...                    0             0             0   \n",
       "2           6       ...                    0             0             0   \n",
       "3           8       ...                    0             0             0   \n",
       "4         103       ...                    0             0             0   \n",
       "\n",
       "   HeatType_3893  HeatType_4255  Foundation_130  Foundation_1219  \\\n",
       "0              1              0               0                0   \n",
       "1              0              1               0                0   \n",
       "2              0              1               0                1   \n",
       "3              1              0               0                0   \n",
       "4              0              1               0                1   \n",
       "\n",
       "   Foundation_2322  Foundation_2628  Foundation_3199  \n",
       "0                0                1                0  \n",
       "1                0                1                0  \n",
       "2                0                0                0  \n",
       "3                0                1                0  \n",
       "4                0                0                0  \n",
       "\n",
       "[5 rows x 76 columns]"
      ]
     },
     "execution_count": 19,
     "metadata": {},
     "output_type": "execute_result"
    }
   ],
   "source": [
    "df_feature = pd.read_csv('Ready_for_machine_learning_2019_1_23.csv')\n",
    "df_feature.head()"
   ]
  },
  {
   "cell_type": "markdown",
   "metadata": {},
   "source": [
    "#### Set the target and variables."
   ]
  },
  {
   "cell_type": "code",
   "execution_count": 20,
   "metadata": {},
   "outputs": [],
   "source": [
    "X = df_feature.drop(columns=['SalePrice'])\n",
    "y = df_feature.SalePrice"
   ]
  },
  {
   "cell_type": "markdown",
   "metadata": {},
   "source": [
    "#### Generate Train and Test sets, and perform scaling."
   ]
  },
  {
   "cell_type": "code",
   "execution_count": 21,
   "metadata": {},
   "outputs": [
    {
     "name": "stderr",
     "output_type": "stream",
     "text": [
      "C:\\Anaconda\\envs\\snowflakes\\lib\\site-packages\\sklearn\\preprocessing\\data.py:625: DataConversionWarning: Data with input dtype int64, float64 were all converted to float64 by StandardScaler.\n",
      "  return self.partial_fit(X, y)\n",
      "C:\\Anaconda\\envs\\snowflakes\\lib\\site-packages\\sklearn\\base.py:462: DataConversionWarning: Data with input dtype int64, float64 were all converted to float64 by StandardScaler.\n",
      "  return self.fit(X, **fit_params).transform(X)\n",
      "C:\\Anaconda\\envs\\snowflakes\\lib\\site-packages\\ipykernel_launcher.py:6: DataConversionWarning: Data with input dtype int64, float64 were all converted to float64 by StandardScaler.\n",
      "  \n"
     ]
    }
   ],
   "source": [
    "from sklearn.model_selection import train_test_split\n",
    "X_train, X_test, y_train, y_test = train_test_split(X, y, test_size=0.2, random_state=0)\n",
    "from sklearn.preprocessing import StandardScaler\n",
    "scaler = StandardScaler()\n",
    "X_train = scaler.fit_transform(X_train)\n",
    "X_test = scaler.transform(X_test)"
   ]
  },
  {
   "cell_type": "markdown",
   "metadata": {},
   "source": [
    "### Gradient Boosting Regression"
   ]
  },
  {
   "cell_type": "code",
   "execution_count": 22,
   "metadata": {},
   "outputs": [
    {
     "name": "stdout",
     "output_type": "stream",
     "text": [
      "MSE: 9653647785.6226\n",
      "Square of MSE: 98252.9785\n",
      "Average Percentage of Abosulute Error: 0.2018\n"
     ]
    }
   ],
   "source": [
    "from sklearn.metrics import mean_squared_error\n",
    "from sklearn.ensemble import GradientBoostingRegressor\n",
    "reg = GradientBoostingRegressor(loss='huber', n_estimators = 75, max_depth = 6, alpha = 0.9, random_state=0)\n",
    "reg.fit(X_train, y_train)\n",
    "mse = mean_squared_error(y_test, reg.predict(X_test))\n",
    "print(\"MSE: %.4f\" % mse)\n",
    "print(\"Square of MSE: %.4f\" % np.sqrt(mse))\n",
    "print(\"Average Percentage of Abosulute Error: %.4f\" % np.mean(np.abs(reg.predict(X_test)-y_test)/y_test))"
   ]
  },
  {
   "cell_type": "markdown",
   "metadata": {},
   "source": [
    "#### Rank the importance of the features from low to high"
   ]
  },
  {
   "cell_type": "code",
   "execution_count": 23,
   "metadata": {},
   "outputs": [
    {
     "name": "stdout",
     "output_type": "stream",
     "text": [
      "Index(['BuildingType_81', 'BuildingType_30', 'BuildingType_24',\n",
      "       'BuildingType_12', 'BuildingType_60', 'BuildingType_83',\n",
      "       'BuildingType_31', 'BuildingType_108', 'LandUse_8', 'BuildingType_103',\n",
      "       'BuildingType_39', 'HeatType_281', 'HeatType_58', 'BuildingType_111',\n",
      "       'BuildingType_338', 'BuildingType_14', 'BuildingType_110',\n",
      "       'BuildingType_44', 'HeatFuel_64', 'BuildingType_1389',\n",
      "       'BuildingType_46', 'LandUse_239', 'BuildingType_101', 'Foundation_2628',\n",
      "       'BuildingType_147', 'LandUse_43', 'BuildingType_87', 'Foundation_130',\n",
      "       'LandUse_369', 'BuildingType_162', 'HeatFuel_281', 'LandUse_2150',\n",
      "       'BuildingType_22', 'BuildingType_144', 'Foundation_3199',\n",
      "       'BuildingType_219', 'BuildingType_482', 'HeatType_50', 'LandUse_1041',\n",
      "       'BuildingType_1028', 'Foundation_2322', 'HeatFuel_8187',\n",
      "       'BuildingType_1193', 'HeatType_3893', 'HeatType_4255', 'HeatType_739',\n",
      "       'BuildingType_589', 'LandUse_367', 'BuildingType_9', 'LandUse_5176',\n",
      "       'BuildingType_2168', 'HeatFuel_1039', 'BuildingType_8',\n",
      "       'Foundation_1219', 'LandUse_45', 'HeatType_188', 'HeatType_54',\n",
      "       'BuildingType_291', 'BuildingType_298', 'NumofUnits', 'BuildingType_11',\n",
      "       'LandUse_285', 'CurrentYardItemsValue', 'NumofRooms', 'CurrentAcres',\n",
      "       'PropertyCenterPoint_y', 'YearBlt', 'PropertyCenterPoint_x',\n",
      "       'Depreciation', 'Grade', 'LandUse_117', 'TotalGrossArea',\n",
      "       'CurrentLandValue', 'CurrentBuildingValue', 'FinishedArea'],\n",
      "      dtype='object')\n"
     ]
    }
   ],
   "source": [
    "feature_importance = reg.feature_importances_\n",
    "# make importances relative to max importance\n",
    "feature_importance = 100.0 * (feature_importance / feature_importance.max())\n",
    "sorted_idx = np.argsort(feature_importance)\n",
    "print(X.columns[sorted_idx])"
   ]
  },
  {
   "cell_type": "markdown",
   "metadata": {},
   "source": [
    "#### Establish a simplified model with fewer features but the same parameter setting"
   ]
  },
  {
   "cell_type": "code",
   "execution_count": 24,
   "metadata": {},
   "outputs": [
    {
     "name": "stderr",
     "output_type": "stream",
     "text": [
      "C:\\Anaconda\\envs\\snowflakes\\lib\\site-packages\\sklearn\\preprocessing\\data.py:625: DataConversionWarning: Data with input dtype int64, float64 were all converted to float64 by StandardScaler.\n",
      "  return self.partial_fit(X, y)\n",
      "C:\\Anaconda\\envs\\snowflakes\\lib\\site-packages\\sklearn\\base.py:462: DataConversionWarning: Data with input dtype int64, float64 were all converted to float64 by StandardScaler.\n",
      "  return self.fit(X, **fit_params).transform(X)\n",
      "C:\\Anaconda\\envs\\snowflakes\\lib\\site-packages\\ipykernel_launcher.py:14: DataConversionWarning: Data with input dtype int64, float64 were all converted to float64 by StandardScaler.\n",
      "  \n"
     ]
    },
    {
     "name": "stdout",
     "output_type": "stream",
     "text": [
      "MSE: 11205087945.9729\n",
      "Square of MSE: 105854.0880\n",
      "Average Percentage of Abosulute Error: 0.2027\n"
     ]
    }
   ],
   "source": [
    "X2=df_feature[['Foundation_1219', 'LandUse_45', 'HeatType_188', 'HeatType_54',\n",
    "       'BuildingType_291', 'BuildingType_298', 'NumofUnits', 'BuildingType_11',\n",
    "       'LandUse_285', 'CurrentYardItemsValue', 'NumofRooms', 'CurrentAcres',\n",
    "       'PropertyCenterPoint_y', 'YearBlt', 'PropertyCenterPoint_x',\n",
    "       'Depreciation', 'Grade', 'LandUse_117', 'TotalGrossArea',\n",
    "       'CurrentLandValue', 'CurrentBuildingValue', 'FinishedArea']]\n",
    "y2=df_feature.SalePrice\n",
    "\n",
    "from sklearn.model_selection import train_test_split\n",
    "X2_train, X2_test, y2_train, y2_test = train_test_split(X2, y2, test_size=0.2, random_state=0)\n",
    "from sklearn.preprocessing import StandardScaler\n",
    "scaler = StandardScaler()\n",
    "X2_train = scaler.fit_transform(X2_train)\n",
    "X2_test = scaler.transform(X2_test)\n",
    "\n",
    "from sklearn.metrics import mean_squared_error\n",
    "from sklearn.ensemble import GradientBoostingRegressor\n",
    "reg = GradientBoostingRegressor(loss='huber', n_estimators = 75, max_depth = 6, alpha = 0.9, random_state=0)\n",
    "reg.fit(X2_train, y2_train)\n",
    "mse = mean_squared_error(y2_test, reg.predict(X2_test))\n",
    "print(\"MSE: %.4f\" % mse)\n",
    "print(\"Square of MSE: %.4f\" % np.sqrt(mse))\n",
    "print(\"Average Percentage of Abosulute Error: %.4f\" % np.mean(np.abs(reg.predict(X2_test)-y2_test)/y2_test))"
   ]
  },
  {
   "cell_type": "markdown",
   "metadata": {},
   "source": [
    "#### Visualize feature importances in the simplified model (since the feature importance bar chart is NOT visible in the full model)"
   ]
  },
  {
   "cell_type": "code",
   "execution_count": 25,
   "metadata": {},
   "outputs": [
    {
     "data": {
      "image/png": "[encoded data removed]",
      "text/plain": [
       "<Figure size 432x288 with 1 Axes>"
      ]
     },
     "metadata": {},
     "output_type": "display_data"
    }
   ],
   "source": [
    "import matplotlib.pyplot as plt\n",
    "feature_importance = reg.feature_importances_\n",
    "# make importances relative to max importance\n",
    "feature_importance = 100.0 * (feature_importance / feature_importance.max())\n",
    "sorted_idx = np.argsort(feature_importance)\n",
    "pos = np.arange(sorted_idx.shape[0]) + .5\n",
    "plt.barh(pos, feature_importance[sorted_idx], align='center')\n",
    "plt.yticks(pos, X2.columns[sorted_idx])\n",
    "plt.xlabel('Relative Importance')\n",
    "plt.title('Variable Importance')\n",
    "plt.show()"
   ]
  },
  {
   "cell_type": "markdown",
   "metadata": {},
   "source": [
    "### Random Forest Regression"
   ]
  },
  {
   "cell_type": "code",
   "execution_count": 26,
   "metadata": {},
   "outputs": [
    {
     "name": "stdout",
     "output_type": "stream",
     "text": [
      "MSE: 11284566340.9465\n",
      "Square of MSE: 106228.8395\n",
      "Average Percentage of Abosulute Error: 0.2040\n"
     ]
    }
   ],
   "source": [
    "from sklearn.metrics import mean_squared_error\n",
    "from sklearn.ensemble import RandomForestRegressor\n",
    "reg = RandomForestRegressor(n_estimators=34, random_state=0)\n",
    "reg.fit(X_train, y_train)\n",
    "mse = mean_squared_error(y_test, reg.predict(X_test))\n",
    "print(\"MSE: %.4f\" % mse)\n",
    "print(\"Square of MSE: %.4f\" % np.sqrt(mse))\n",
    "print(\"Average Percentage of Abosulute Error: %.4f\" % np.mean(np.abs(reg.predict(X_test)-y_test)/y_test))"
   ]
  },
  {
   "cell_type": "markdown",
   "metadata": {},
   "source": [
    "#### Rank the importance of the features from low to high"
   ]
  },
  {
   "cell_type": "code",
   "execution_count": 27,
   "metadata": {},
   "outputs": [
    {
     "name": "stdout",
     "output_type": "stream",
     "text": [
      "Index(['LandUse_8', 'BuildingType_31', 'BuildingType_44', 'BuildingType_24',\n",
      "       'HeatType_58', 'BuildingType_12', 'Foundation_130', 'BuildingType_14',\n",
      "       'BuildingType_103', 'BuildingType_30', 'HeatFuel_64', 'BuildingType_60',\n",
      "       'BuildingType_46', 'BuildingType_9', 'BuildingType_101', 'LandUse_45',\n",
      "       'BuildingType_22', 'BuildingType_39', 'BuildingType_108',\n",
      "       'BuildingType_110', 'BuildingType_111', 'BuildingType_87',\n",
      "       'BuildingType_81', 'LandUse_43', 'HeatType_281', 'BuildingType_11',\n",
      "       'HeatType_50', 'BuildingType_8', 'HeatFuel_281', 'BuildingType_83',\n",
      "       'BuildingType_162', 'BuildingType_482', 'BuildingType_147',\n",
      "       'BuildingType_338', 'LandUse_367', 'BuildingType_589', 'LandUse_2150',\n",
      "       'HeatFuel_1039', 'BuildingType_144', 'LandUse_239', 'BuildingType_1389',\n",
      "       'LandUse_1041', 'HeatType_54', 'BuildingType_1193', 'LandUse_5176',\n",
      "       'BuildingType_1028', 'BuildingType_2168', 'BuildingType_291',\n",
      "       'Foundation_3199', 'Foundation_1219', 'HeatType_188', 'LandUse_369',\n",
      "       'HeatType_739', 'BuildingType_219', 'LandUse_285', 'Foundation_2322',\n",
      "       'HeatType_4255', 'HeatFuel_8187', 'HeatType_3893', 'BuildingType_298',\n",
      "       'Foundation_2628', 'CurrentYardItemsValue', 'YearBlt', 'LandUse_117',\n",
      "       'Grade', 'PropertyCenterPoint_y', 'Depreciation', 'NumofRooms',\n",
      "       'PropertyCenterPoint_x', 'CurrentAcres', 'NumofUnits', 'FinishedArea',\n",
      "       'TotalGrossArea', 'CurrentLandValue', 'CurrentBuildingValue'],\n",
      "      dtype='object')\n"
     ]
    }
   ],
   "source": [
    "feature_importance = reg.feature_importances_\n",
    "# make importances relative to max importance\n",
    "feature_importance = 100.0 * (feature_importance / feature_importance.max())\n",
    "sorted_idx = np.argsort(feature_importance)\n",
    "print(X.columns[sorted_idx])"
   ]
  },
  {
   "cell_type": "markdown",
   "metadata": {},
   "source": [
    "#### Establish a simplified model with fewer features but the same parameter setting"
   ]
  },
  {
   "cell_type": "code",
   "execution_count": 28,
   "metadata": {},
   "outputs": [
    {
     "name": "stderr",
     "output_type": "stream",
     "text": [
      "C:\\Anaconda\\envs\\snowflakes\\lib\\site-packages\\sklearn\\preprocessing\\data.py:625: DataConversionWarning: Data with input dtype int64, float64 were all converted to float64 by StandardScaler.\n",
      "  return self.partial_fit(X, y)\n",
      "C:\\Anaconda\\envs\\snowflakes\\lib\\site-packages\\sklearn\\base.py:462: DataConversionWarning: Data with input dtype int64, float64 were all converted to float64 by StandardScaler.\n",
      "  return self.fit(X, **fit_params).transform(X)\n",
      "C:\\Anaconda\\envs\\snowflakes\\lib\\site-packages\\ipykernel_launcher.py:13: DataConversionWarning: Data with input dtype int64, float64 were all converted to float64 by StandardScaler.\n",
      "  del sys.path[0]\n"
     ]
    },
    {
     "name": "stdout",
     "output_type": "stream",
     "text": [
      "MSE: 11372684198.3776\n",
      "Square of MSE: 106642.7878\n",
      "Average Percentage of Abosulute Error: 0.2029\n"
     ]
    }
   ],
   "source": [
    "X2=df_feature[['HeatType_4255', 'HeatFuel_8187', 'HeatType_3893', 'BuildingType_298',\n",
    "       'Foundation_2628', 'CurrentYardItemsValue', 'YearBlt', 'LandUse_117',\n",
    "       'Grade', 'PropertyCenterPoint_y', 'Depreciation', 'NumofRooms',\n",
    "       'PropertyCenterPoint_x', 'CurrentAcres', 'NumofUnits', 'FinishedArea',\n",
    "       'TotalGrossArea', 'CurrentLandValue', 'CurrentBuildingValue']]\n",
    "y2=df_feature.SalePrice\n",
    "\n",
    "from sklearn.model_selection import train_test_split\n",
    "X2_train, X2_test, y2_train, y2_test = train_test_split(X2, y2, test_size=0.2, random_state=0)\n",
    "from sklearn.preprocessing import StandardScaler\n",
    "scaler = StandardScaler()\n",
    "X2_train = scaler.fit_transform(X2_train)\n",
    "X2_test = scaler.transform(X2_test)\n",
    "\n",
    "from sklearn.metrics import mean_squared_error\n",
    "from sklearn.ensemble import RandomForestRegressor\n",
    "reg = RandomForestRegressor(n_estimators=34, random_state=0)\n",
    "reg.fit(X2_train, y2_train)\n",
    "mse = mean_squared_error(y2_test, reg.predict(X2_test))\n",
    "print(\"MSE: %.4f\" % mse)\n",
    "print(\"Square of MSE: %.4f\" % np.sqrt(mse))\n",
    "print(\"Average Percentage of Abosulute Error: %.4f\" % np.mean(np.abs(reg.predict(X2_test)-y2_test)/y2_test))"
   ]
  },
  {
   "cell_type": "markdown",
   "metadata": {},
   "source": [
    "#### Visualize feature importances in the simplified model (since the feature importance bar chart is NOT visible in the full model)"
   ]
  },
  {
   "cell_type": "code",
   "execution_count": 29,
   "metadata": {},
   "outputs": [
    {
     "data": {
      "image/png": "[encoded data removed]",
      "text/plain": [
       "<Figure size 432x288 with 1 Axes>"
      ]
     },
     "metadata": {},
     "output_type": "display_data"
    }
   ],
   "source": [
    "import matplotlib.pyplot as plt\n",
    "feature_importance = reg.feature_importances_\n",
    "# make importances relative to max importance\n",
    "feature_importance = 100.0 * (feature_importance / feature_importance.max())\n",
    "sorted_idx = np.argsort(feature_importance)\n",
    "pos = np.arange(sorted_idx.shape[0]) + .5\n",
    "plt.barh(pos, feature_importance[sorted_idx], align='center')\n",
    "plt.yticks(pos, X2.columns[sorted_idx])\n",
    "plt.xlabel('Relative Importance')\n",
    "plt.title('Variable Importance')\n",
    "plt.show()"
   ]
  },
  {
   "cell_type": "markdown",
   "metadata": {},
   "source": [
    "### XGBoosting Regression"
   ]
  },
  {
   "cell_type": "markdown",
   "metadata": {},
   "source": [
    "#### Initialize the best XGB Regression model. Recall that it does NOT take all features!"
   ]
  },
  {
   "cell_type": "code",
   "execution_count": 32,
   "metadata": {},
   "outputs": [
    {
     "name": "stderr",
     "output_type": "stream",
     "text": [
      "C:\\Anaconda\\envs\\snowflakes\\lib\\site-packages\\sklearn\\preprocessing\\data.py:625: DataConversionWarning: Data with input dtype int64, float64 were all converted to float64 by StandardScaler.\n",
      "  return self.partial_fit(X, y)\n",
      "C:\\Anaconda\\envs\\snowflakes\\lib\\site-packages\\sklearn\\base.py:462: DataConversionWarning: Data with input dtype int64, float64 were all converted to float64 by StandardScaler.\n",
      "  return self.fit(X, **fit_params).transform(X)\n",
      "C:\\Anaconda\\envs\\snowflakes\\lib\\site-packages\\ipykernel_launcher.py:13: DataConversionWarning: Data with input dtype int64, float64 were all converted to float64 by StandardScaler.\n",
      "  del sys.path[0]\n"
     ]
    },
    {
     "name": "stdout",
     "output_type": "stream",
     "text": [
      "MSE: 9540009587.4448\n",
      "Square of MSE: 97672.9727\n",
      "Average Percentage of Abosulute Error: 0.2048\n"
     ]
    }
   ],
   "source": [
    "X2=df_feature[['LandUse_117', 'HeatFuel_64',\n",
    "       'LandUse_285', 'HeatType_54', 'BuildingType_144', 'BuildingType_298',\n",
    "       'NumofUnits', 'CurrentYardItemsValue', 'NumofRooms', 'Grade', 'YearBlt',\n",
    "       'FinishedArea', 'Depreciation', 'PropertyCenterPoint_y',\n",
    "       'PropertyCenterPoint_x', 'CurrentAcres', 'TotalGrossArea',\n",
    "       'CurrentLandValue', 'CurrentBuildingValue']]\n",
    "y2=df_feature.SalePrice\n",
    "from sklearn.model_selection import train_test_split\n",
    "X2_train, X2_test, y2_train, y2_test = train_test_split(X2, y2, test_size=0.2, random_state=0)\n",
    "from sklearn.preprocessing import StandardScaler\n",
    "scaler = StandardScaler()\n",
    "X2_train = scaler.fit_transform(X2_train)\n",
    "X2_test = scaler.transform(X2_test)\n",
    "\n",
    "import xgboost as xgb\n",
    "from sklearn.metrics import mean_squared_error\n",
    "reg = xgb.XGBRegressor(max_depth=6, learning_rate=0.1, n_estimators=50, random_state=0)\n",
    "reg.fit(X2_train, y2_train)\n",
    "mse = mean_squared_error(y2_test, reg.predict(X2_test))\n",
    "print(\"MSE: %.4f\" % mse)\n",
    "print(\"Square of MSE: %.4f\" % np.sqrt(mse))\n",
    "print(\"Average Percentage of Abosulute Error: %.4f\" % np.mean(np.abs(reg.predict(X2_test)-y2_test)/y2_test))"
   ]
  },
  {
   "cell_type": "markdown",
   "metadata": {},
   "source": [
    "#### Visualize feature importances."
   ]
  },
  {
   "cell_type": "code",
   "execution_count": 33,
   "metadata": {},
   "outputs": [
    {
     "data": {
      "image/png": "[encoded data removed]",
      "text/plain": [
       "<Figure size 432x288 with 1 Axes>"
      ]
     },
     "metadata": {},
     "output_type": "display_data"
    }
   ],
   "source": [
    "import matplotlib.pyplot as plt\n",
    "feature_importance = reg.feature_importances_\n",
    "# make importances relative to max importance\n",
    "feature_importance = 100.0 * (feature_importance / feature_importance.max())\n",
    "sorted_idx = np.argsort(feature_importance)\n",
    "pos = np.arange(sorted_idx.shape[0]) + .5\n",
    "plt.barh(pos, feature_importance[sorted_idx], align='center')\n",
    "plt.yticks(pos, X2.columns[sorted_idx])\n",
    "plt.xlabel('Relative Importance')\n",
    "plt.title('Variable Importance')\n",
    "plt.show()"
   ]
  },
  {
   "cell_type": "markdown",
   "metadata": {},
   "source": [
    "### Conclusions: \n",
    "#### 1.CurrentBuildingValue is always in the top 2 of the most important features(in most cases, it is No.1). \n",
    "#### 2.Other important features are CurrentLandValue, FinishedArea, TotalGrossArea, CurrentAcres, PropertyCenterPoint_x, PropertyCenterPoint_y. \n",
    "#### 3.The feature LandUse117 is of some use but is of less importance than the most important features in Random Forest Regression and XGB Regression. However, LandUse117 is very important in Gradient Boosting Regression.  "
   ]
  }
 ],
 "metadata": {
  "kernelspec": {
   "display_name": "Python 3",
   "language": "python",
   "name": "python3"
  },
  "language_info": {
   "codemirror_mode": {
    "name": "ipython",
    "version": 3
   },
   "file_extension": ".py",
   "mimetype": "text/x-python",
   "name": "python",
   "nbconvert_exporter": "python",
   "pygments_lexer": "ipython3",
   "version": "3.6.6"
  }
 },
 "nbformat": 4,
 "nbformat_minor": 2
}
